{
 "cells": [
  {
   "cell_type": "markdown",
   "source": [
    "# Necessary Packages"
   ],
   "metadata": {}
  },
  {
   "cell_type": "code",
   "execution_count": 519,
   "source": [
    "import datetime\r\n",
    "import json\r\n",
    "import re\r\n",
    "\r\n",
    "import matplotlib.pyplot as plt\r\n",
    "import numpy as np\r\n",
    "import pandas as pd\r\n",
    "import requests\r\n",
    "from bs4 import BeautifulSoup\r\n",
    "from jupyterthemes import jtplot\r\n",
    "from matplotlib import pyplot as plt\r\n",
    "from sklearn.cluster import KMeans"
   ],
   "outputs": [],
   "metadata": {}
  },
  {
   "cell_type": "markdown",
   "source": [
    "# Function to fetch the all Pull Requests along with their links from Rotten Scripts Repo"
   ],
   "metadata": {}
  },
  {
   "cell_type": "code",
   "execution_count": 758,
   "source": [
    "#function to fetch the all Pull Requests along with their links.\r\n",
    "def fetch_pr_links(URL):\r\n",
    "    \"\"\"\r\n",
    "    Returns the number, title and link of every Pull Request.\r\n",
    "\r\n",
    "    Parameters:\r\n",
    "        URL (url) : Url to the Pull Requests page in the repo.\r\n",
    "    \r\n",
    "    Returns:\r\n",
    "        pr_number (list) : All the numbers in a list format.\r\n",
    "        pr_title (list) : All the PR titles in a list format.\r\n",
    "        pr_links (list) : All the PR links in a list format.\r\n",
    "\r\n",
    "    \"\"\"\r\n",
    "    pr_links=[]\r\n",
    "    pr_number=[]\r\n",
    "    pr_info=[]\r\n",
    "    pr_title=[]\r\n",
    "    for x in range(1,30):    # range() --> upper limit value = total number of pages in PR (open + closed) \r\n",
    "        r=requests.get(url=URL)\r\n",
    "        soup=BeautifulSoup(r.content,'html.parser')\r\n",
    "        div_tags=soup.findAll('div',class_=\"Box-row Box-row--focus-gray p-0 mt-0 js-navigation-item js-issue-row\")\r\n",
    "        base_url=\"https://github.com/\"\r\n",
    "        for _,i in enumerate(div_tags):\r\n",
    "            for a in i.findAll('a'):\r\n",
    "                newUrl=base_url+a[\"href\"]\r\n",
    "            pr_number.append(_)\r\n",
    "            pr_info.append(i.text.strip())\r\n",
    "            pr_links.append(newUrl)\r\n",
    "    for item in info:\r\n",
    "        pr_title.append(re.sub(\"\\n\",\"\",item))\r\n",
    "    \r\n",
    "    return pr_number,pr_title,pr_links\r\n",
    "\r\n",
    "base_url='https://github.com/HarshCasper/Rotten-Scripts/pulls?page=1&q=is%3Apr'\r\n",
    "pr_number, pr_title, pr_links = fetch_pr_links(base_url)"
   ],
   "outputs": [],
   "metadata": {}
  },
  {
   "cell_type": "markdown",
   "source": [
    "# Converting the fetched information into a Python DataFrame"
   ],
   "metadata": {}
  },
  {
   "cell_type": "code",
   "execution_count": null,
   "source": [
    "data=list(zip(pr_number,pr_title,pr_links))\r\n",
    "df=pd.DataFrame(data,columns=[\"No\",\"Info\",\"PR Url\"])\r\n",
    "for i in range(len(df)):\r\n",
    "    df['No'][i]=i"
   ],
   "outputs": [
    {
     "output_type": "stream",
     "name": "stderr",
     "text": [
      "C:\\Users\\adity\\anaconda3\\lib\\site-packages\\ipykernel_launcher.py:4: SettingWithCopyWarning: \n",
      "A value is trying to be set on a copy of a slice from a DataFrame\n",
      "\n",
      "See the caveats in the documentation: https://pandas.pydata.org/pandas-docs/stable/user_guide/indexing.html#returning-a-view-versus-a-copy\n",
      "  after removing the cwd from sys.path.\n"
     ]
    }
   ],
   "metadata": {}
  },
  {
   "cell_type": "code",
   "execution_count": null,
   "source": [
    "df"
   ],
   "outputs": [
    {
     "output_type": "execute_result",
     "data": {
      "text/plain": [
       "      No                                               Info  \\\n",
       "0      0  This fixes #1195                wontfix       ...   \n",
       "1      1  This Fixes #1203                invalid       ...   \n",
       "2      2  This fixes #1195                duplicate     ...   \n",
       "3      3  this fixes #1195                PR:Ready-to-Re...   \n",
       "4      4  certificate app using streamlit               ...   \n",
       "..   ...                                                ...   \n",
       "693  693  RSA Key Pair Generator #4          #20        ...   \n",
       "694  694  Download Instagram post images          #16   ...   \n",
       "695  695  Initialize HTTP server #9          #15        ...   \n",
       "696  696  Lorem Ipsum Text Generator #2          #7     ...   \n",
       "697  697  Added a script by Seema          #1           ...   \n",
       "\n",
       "                                                PR Url  \n",
       "0    https://github.com//HarshCasper/Rotten-Scripts...  \n",
       "1    https://github.com//HarshCasper/Rotten-Scripts...  \n",
       "2    https://github.com//HarshCasper/Rotten-Scripts...  \n",
       "3    https://github.com//HarshCasper/Rotten-Scripts...  \n",
       "4    https://github.com//HarshCasper/Rotten-Scripts...  \n",
       "..                                                 ...  \n",
       "693  https://github.com//HarshCasper/Rotten-Scripts...  \n",
       "694  https://github.com//HarshCasper/Rotten-Scripts...  \n",
       "695  https://github.com//HarshCasper/Rotten-Scripts...  \n",
       "696  https://github.com//HarshCasper/Rotten-Scripts...  \n",
       "697  https://github.com//HarshCasper/Rotten-Scripts...  \n",
       "\n",
       "[698 rows x 3 columns]"
      ],
      "text/html": [
       "<div>\n",
       "<style scoped>\n",
       "    .dataframe tbody tr th:only-of-type {\n",
       "        vertical-align: middle;\n",
       "    }\n",
       "\n",
       "    .dataframe tbody tr th {\n",
       "        vertical-align: top;\n",
       "    }\n",
       "\n",
       "    .dataframe thead th {\n",
       "        text-align: right;\n",
       "    }\n",
       "</style>\n",
       "<table border=\"1\" class=\"dataframe\">\n",
       "  <thead>\n",
       "    <tr style=\"text-align: right;\">\n",
       "      <th></th>\n",
       "      <th>No</th>\n",
       "      <th>Info</th>\n",
       "      <th>PR Url</th>\n",
       "    </tr>\n",
       "  </thead>\n",
       "  <tbody>\n",
       "    <tr>\n",
       "      <th>0</th>\n",
       "      <td>0</td>\n",
       "      <td>This fixes #1195                wontfix       ...</td>\n",
       "      <td>https://github.com//HarshCasper/Rotten-Scripts...</td>\n",
       "    </tr>\n",
       "    <tr>\n",
       "      <th>1</th>\n",
       "      <td>1</td>\n",
       "      <td>This Fixes #1203                invalid       ...</td>\n",
       "      <td>https://github.com//HarshCasper/Rotten-Scripts...</td>\n",
       "    </tr>\n",
       "    <tr>\n",
       "      <th>2</th>\n",
       "      <td>2</td>\n",
       "      <td>This fixes #1195                duplicate     ...</td>\n",
       "      <td>https://github.com//HarshCasper/Rotten-Scripts...</td>\n",
       "    </tr>\n",
       "    <tr>\n",
       "      <th>3</th>\n",
       "      <td>3</td>\n",
       "      <td>this fixes #1195                PR:Ready-to-Re...</td>\n",
       "      <td>https://github.com//HarshCasper/Rotten-Scripts...</td>\n",
       "    </tr>\n",
       "    <tr>\n",
       "      <th>4</th>\n",
       "      <td>4</td>\n",
       "      <td>certificate app using streamlit               ...</td>\n",
       "      <td>https://github.com//HarshCasper/Rotten-Scripts...</td>\n",
       "    </tr>\n",
       "    <tr>\n",
       "      <th>...</th>\n",
       "      <td>...</td>\n",
       "      <td>...</td>\n",
       "      <td>...</td>\n",
       "    </tr>\n",
       "    <tr>\n",
       "      <th>693</th>\n",
       "      <td>693</td>\n",
       "      <td>RSA Key Pair Generator #4          #20        ...</td>\n",
       "      <td>https://github.com//HarshCasper/Rotten-Scripts...</td>\n",
       "    </tr>\n",
       "    <tr>\n",
       "      <th>694</th>\n",
       "      <td>694</td>\n",
       "      <td>Download Instagram post images          #16   ...</td>\n",
       "      <td>https://github.com//HarshCasper/Rotten-Scripts...</td>\n",
       "    </tr>\n",
       "    <tr>\n",
       "      <th>695</th>\n",
       "      <td>695</td>\n",
       "      <td>Initialize HTTP server #9          #15        ...</td>\n",
       "      <td>https://github.com//HarshCasper/Rotten-Scripts...</td>\n",
       "    </tr>\n",
       "    <tr>\n",
       "      <th>696</th>\n",
       "      <td>696</td>\n",
       "      <td>Lorem Ipsum Text Generator #2          #7     ...</td>\n",
       "      <td>https://github.com//HarshCasper/Rotten-Scripts...</td>\n",
       "    </tr>\n",
       "    <tr>\n",
       "      <th>697</th>\n",
       "      <td>697</td>\n",
       "      <td>Added a script by Seema          #1           ...</td>\n",
       "      <td>https://github.com//HarshCasper/Rotten-Scripts...</td>\n",
       "    </tr>\n",
       "  </tbody>\n",
       "</table>\n",
       "<p>698 rows × 3 columns</p>\n",
       "</div>"
      ]
     },
     "metadata": {},
     "execution_count": 228
    }
   ],
   "metadata": {}
  },
  {
   "cell_type": "markdown",
   "source": [
    "# (Experimental Section)\r\n",
    "## This section contains function to fetch comments from each and every PR. \r\n",
    "\r\n",
    " ***NEEDS MORE WORK****"
   ],
   "metadata": {}
  },
  {
   "cell_type": "code",
   "execution_count": null,
   "source": [
    "\r\n",
    "def pr_comments_extractor(link):\r\n",
    "    comments=[]\r\n",
    "    comments_collection=[]\r\n",
    "    r=requests.get(url=link)\r\n",
    "    soup=BeautifulSoup(r.content,'html.parser')\r\n",
    "    div_tags=soup.findAll('div',class_=\"TimelineItem pt-0\")\r\n",
    "    for _,i in enumerate(div_tags):\r\n",
    "        for td in i.findChild('td',class_=\"d-block\"):\r\n",
    "            print(td)\r\n",
    "            comments.append(td)\r\n",
    "        comments_collection.append(comments)\r\n",
    "        \r\n",
    "    return comments,comments_collection"
   ],
   "outputs": [],
   "metadata": {}
  },
  {
   "cell_type": "code",
   "execution_count": null,
   "source": [
    "comments,comment_collention=pr_comments_extractor(df['PR Url'][1])"
   ],
   "outputs": [
    {
     "output_type": "stream",
     "name": "stdout",
     "text": [
      "\n",
      "\n",
      "<p>Review Round (1)</p>\n",
      "\n",
      "\n"
     ]
    }
   ],
   "metadata": {}
  },
  {
   "cell_type": "code",
   "execution_count": null,
   "source": [
    "comment_collention"
   ],
   "outputs": [
    {
     "output_type": "execute_result",
     "data": {
      "text/plain": [
       "[[]]"
      ]
     },
     "metadata": {},
     "execution_count": 126
    }
   ],
   "metadata": {}
  },
  {
   "cell_type": "code",
   "execution_count": null,
   "source": [
    "comments"
   ],
   "outputs": [
    {
     "output_type": "execute_result",
     "data": {
      "text/plain": [
       "['\\n',\n",
       " <p>I don't see any utility for this.</p>,\n",
       " '\\n',\n",
       " <p>Kindly go through the purpose of the project before you start contributing to it.</p>,\n",
       " '\\n']"
      ]
     },
     "metadata": {},
     "execution_count": 93
    }
   ],
   "metadata": {}
  },
  {
   "cell_type": "markdown",
   "source": [
    "# Function to Fetch the status of each and every PR\r\n",
    "* The function returns the status by stating if the PR is \"open\", \"closed\" or \"merged\""
   ],
   "metadata": {}
  },
  {
   "cell_type": "code",
   "execution_count": null,
   "source": [
    "#Function to Fetch the status of each and every PR\r\n",
    "def pr_status(link):\r\n",
    "    \"\"\"\r\n",
    "    Returns the status of every Pull Request.\r\n",
    "\r\n",
    "    Parameters:\r\n",
    "        link (url): URL to the every Pull Request.\r\n",
    "    \r\n",
    "    Returns:\r\n",
    "        status (str): Status as a string dtype.\r\n",
    "\r\n",
    "    \"\"\"\r\n",
    "    status=[]\r\n",
    "    r=requests.get(url=link)\r\n",
    "    soup=BeautifulSoup(r.content,'html.parser')\r\n",
    "    div_tags=soup.findAll('div',class_=\"flex-shrink-0 mb-2 flex-self-start flex-md-self-center\")\r\n",
    "    for _,i in enumerate(div_tags):\r\n",
    "        for span in i.findChild('span'):\r\n",
    "            status.append(span)\r\n",
    "    status=re.sub('\\n','',status[-1])\r\n",
    "    status=re.sub(' ','',status)\r\n",
    "    return str(status)"
   ],
   "outputs": [],
   "metadata": {}
  },
  {
   "cell_type": "markdown",
   "source": [
    "#  Adding 'PR Status' columnm to the DataFrame"
   ],
   "metadata": {}
  },
  {
   "cell_type": "code",
   "execution_count": null,
   "source": [
    "status=[]"
   ],
   "outputs": [],
   "metadata": {}
  },
  {
   "cell_type": "code",
   "execution_count": null,
   "source": [
    "#add all the PR status to the dataframe\r\n",
    "\r\n",
    "for i in range(len(df)):\r\n",
    "    print(i)\r\n",
    "    status.append(pr_status(df['PR Url'][i]))\r\n"
   ],
   "outputs": [
    {
     "output_type": "stream",
     "name": "stdout",
     "text": [
      "675\n",
      "676\n",
      "677\n",
      "678\n",
      "679\n",
      "680\n",
      "681\n",
      "682\n",
      "683\n",
      "684\n",
      "685\n",
      "686\n",
      "687\n",
      "688\n",
      "689\n",
      "690\n",
      "691\n",
      "692\n",
      "693\n",
      "694\n",
      "695\n",
      "696\n",
      "697\n"
     ]
    }
   ],
   "metadata": {}
  },
  {
   "cell_type": "code",
   "execution_count": null,
   "source": [
    "len(status)"
   ],
   "outputs": [
    {
     "output_type": "execute_result",
     "data": {
      "text/plain": [
       "698"
      ]
     },
     "metadata": {},
     "execution_count": 251
    }
   ],
   "metadata": {}
  },
  {
   "cell_type": "code",
   "execution_count": null,
   "source": [
    "df['PR Status']=status\r\n",
    "df"
   ],
   "outputs": [
    {
     "output_type": "execute_result",
     "data": {
      "text/plain": [
       "      No                                               Info  \\\n",
       "0      0  This fixes #1195                wontfix       ...   \n",
       "1      1  This Fixes #1203                invalid       ...   \n",
       "2      2  This fixes #1195                duplicate     ...   \n",
       "3      3  this fixes #1195                PR:Ready-to-Re...   \n",
       "4      4  certificate app using streamlit               ...   \n",
       "..   ...                                                ...   \n",
       "693  693  RSA Key Pair Generator #4          #20        ...   \n",
       "694  694  Download Instagram post images          #16   ...   \n",
       "695  695  Initialize HTTP server #9          #15        ...   \n",
       "696  696  Lorem Ipsum Text Generator #2          #7     ...   \n",
       "697  697  Added a script by Seema          #1           ...   \n",
       "\n",
       "                                                PR Url PR Status  \n",
       "0    https://github.com//HarshCasper/Rotten-Scripts...    Closed  \n",
       "1    https://github.com//HarshCasper/Rotten-Scripts...    Closed  \n",
       "2    https://github.com//HarshCasper/Rotten-Scripts...    Closed  \n",
       "3    https://github.com//HarshCasper/Rotten-Scripts...    Closed  \n",
       "4    https://github.com//HarshCasper/Rotten-Scripts...    Closed  \n",
       "..                                                 ...       ...  \n",
       "693  https://github.com//HarshCasper/Rotten-Scripts...    Merged  \n",
       "694  https://github.com//HarshCasper/Rotten-Scripts...    Merged  \n",
       "695  https://github.com//HarshCasper/Rotten-Scripts...    Merged  \n",
       "696  https://github.com//HarshCasper/Rotten-Scripts...    Merged  \n",
       "697  https://github.com//HarshCasper/Rotten-Scripts...    Closed  \n",
       "\n",
       "[698 rows x 4 columns]"
      ],
      "text/html": [
       "<div>\n",
       "<style scoped>\n",
       "    .dataframe tbody tr th:only-of-type {\n",
       "        vertical-align: middle;\n",
       "    }\n",
       "\n",
       "    .dataframe tbody tr th {\n",
       "        vertical-align: top;\n",
       "    }\n",
       "\n",
       "    .dataframe thead th {\n",
       "        text-align: right;\n",
       "    }\n",
       "</style>\n",
       "<table border=\"1\" class=\"dataframe\">\n",
       "  <thead>\n",
       "    <tr style=\"text-align: right;\">\n",
       "      <th></th>\n",
       "      <th>No</th>\n",
       "      <th>Info</th>\n",
       "      <th>PR Url</th>\n",
       "      <th>PR Status</th>\n",
       "    </tr>\n",
       "  </thead>\n",
       "  <tbody>\n",
       "    <tr>\n",
       "      <th>0</th>\n",
       "      <td>0</td>\n",
       "      <td>This fixes #1195                wontfix       ...</td>\n",
       "      <td>https://github.com//HarshCasper/Rotten-Scripts...</td>\n",
       "      <td>Closed</td>\n",
       "    </tr>\n",
       "    <tr>\n",
       "      <th>1</th>\n",
       "      <td>1</td>\n",
       "      <td>This Fixes #1203                invalid       ...</td>\n",
       "      <td>https://github.com//HarshCasper/Rotten-Scripts...</td>\n",
       "      <td>Closed</td>\n",
       "    </tr>\n",
       "    <tr>\n",
       "      <th>2</th>\n",
       "      <td>2</td>\n",
       "      <td>This fixes #1195                duplicate     ...</td>\n",
       "      <td>https://github.com//HarshCasper/Rotten-Scripts...</td>\n",
       "      <td>Closed</td>\n",
       "    </tr>\n",
       "    <tr>\n",
       "      <th>3</th>\n",
       "      <td>3</td>\n",
       "      <td>this fixes #1195                PR:Ready-to-Re...</td>\n",
       "      <td>https://github.com//HarshCasper/Rotten-Scripts...</td>\n",
       "      <td>Closed</td>\n",
       "    </tr>\n",
       "    <tr>\n",
       "      <th>4</th>\n",
       "      <td>4</td>\n",
       "      <td>certificate app using streamlit               ...</td>\n",
       "      <td>https://github.com//HarshCasper/Rotten-Scripts...</td>\n",
       "      <td>Closed</td>\n",
       "    </tr>\n",
       "    <tr>\n",
       "      <th>...</th>\n",
       "      <td>...</td>\n",
       "      <td>...</td>\n",
       "      <td>...</td>\n",
       "      <td>...</td>\n",
       "    </tr>\n",
       "    <tr>\n",
       "      <th>693</th>\n",
       "      <td>693</td>\n",
       "      <td>RSA Key Pair Generator #4          #20        ...</td>\n",
       "      <td>https://github.com//HarshCasper/Rotten-Scripts...</td>\n",
       "      <td>Merged</td>\n",
       "    </tr>\n",
       "    <tr>\n",
       "      <th>694</th>\n",
       "      <td>694</td>\n",
       "      <td>Download Instagram post images          #16   ...</td>\n",
       "      <td>https://github.com//HarshCasper/Rotten-Scripts...</td>\n",
       "      <td>Merged</td>\n",
       "    </tr>\n",
       "    <tr>\n",
       "      <th>695</th>\n",
       "      <td>695</td>\n",
       "      <td>Initialize HTTP server #9          #15        ...</td>\n",
       "      <td>https://github.com//HarshCasper/Rotten-Scripts...</td>\n",
       "      <td>Merged</td>\n",
       "    </tr>\n",
       "    <tr>\n",
       "      <th>696</th>\n",
       "      <td>696</td>\n",
       "      <td>Lorem Ipsum Text Generator #2          #7     ...</td>\n",
       "      <td>https://github.com//HarshCasper/Rotten-Scripts...</td>\n",
       "      <td>Merged</td>\n",
       "    </tr>\n",
       "    <tr>\n",
       "      <th>697</th>\n",
       "      <td>697</td>\n",
       "      <td>Added a script by Seema          #1           ...</td>\n",
       "      <td>https://github.com//HarshCasper/Rotten-Scripts...</td>\n",
       "      <td>Closed</td>\n",
       "    </tr>\n",
       "  </tbody>\n",
       "</table>\n",
       "<p>698 rows × 4 columns</p>\n",
       "</div>"
      ]
     },
     "metadata": {},
     "execution_count": 254
    }
   ],
   "metadata": {}
  },
  {
   "cell_type": "markdown",
   "source": [
    "# Function which fetches the names of contributors from each pull request\r\n"
   ],
   "metadata": {}
  },
  {
   "cell_type": "code",
   "execution_count": null,
   "source": [
    "#funtion to fetch the contributors name from each pull request\r\n",
    "def pr_names(link):\r\n",
    "    \"\"\"\r\n",
    "    Returns all the contributors involved in every PR.\r\n",
    "\r\n",
    "    Parameters:\r\n",
    "        link (url): Url of the Pull Request\r\n",
    "    \r\n",
    "    Returns:\r\n",
    "        name (list) : List containing the contributors.\r\n",
    "\r\n",
    "    \"\"\"\r\n",
    "    name=[]\r\n",
    "    r=requests.get(url=link)\r\n",
    "    soup=BeautifulSoup(r.content,'html.parser')\r\n",
    "    div_tags=soup.findAll('div',class_=\"participation\")\r\n",
    "    for _,i in enumerate(div_tags):\r\n",
    "        for a in i.findAll('a'):\r\n",
    "            name.append(re.sub('/' ,\"\",a['href']))\r\n",
    "    return name\r\n",
    "\r\n",
    "pr_contributors=[]\r\n",
    "\r\n",
    "for i in range(len(df)):\r\n",
    "    pr_contributors.append(pr_names(df['PR Url'][i]))"
   ],
   "outputs": [],
   "metadata": {}
  },
  {
   "cell_type": "code",
   "execution_count": null,
   "source": [
    "df['PR Contributors']=pr_contributors\r\n",
    "df"
   ],
   "outputs": [
    {
     "output_type": "execute_result",
     "data": {
      "text/plain": [
       "      No                                               Info  \\\n",
       "0      0  This fixes #1195                wontfix       ...   \n",
       "1      1  This Fixes #1203                invalid       ...   \n",
       "2      2  This fixes #1195                duplicate     ...   \n",
       "3      3  this fixes #1195                PR:Ready-to-Re...   \n",
       "4      4  certificate app using streamlit               ...   \n",
       "..   ...                                                ...   \n",
       "693  693  RSA Key Pair Generator #4          #20        ...   \n",
       "694  694  Download Instagram post images          #16   ...   \n",
       "695  695  Initialize HTTP server #9          #15        ...   \n",
       "696  696  Lorem Ipsum Text Generator #2          #7     ...   \n",
       "697  697  Added a script by Seema          #1           ...   \n",
       "\n",
       "                                                PR Url PR Status  \\\n",
       "0    https://github.com//HarshCasper/Rotten-Scripts...    Closed   \n",
       "1    https://github.com//HarshCasper/Rotten-Scripts...    Closed   \n",
       "2    https://github.com//HarshCasper/Rotten-Scripts...    Closed   \n",
       "3    https://github.com//HarshCasper/Rotten-Scripts...    Closed   \n",
       "4    https://github.com//HarshCasper/Rotten-Scripts...    Closed   \n",
       "..                                                 ...       ...   \n",
       "693  https://github.com//HarshCasper/Rotten-Scripts...    Merged   \n",
       "694  https://github.com//HarshCasper/Rotten-Scripts...    Merged   \n",
       "695  https://github.com//HarshCasper/Rotten-Scripts...    Merged   \n",
       "696  https://github.com//HarshCasper/Rotten-Scripts...    Merged   \n",
       "697  https://github.com//HarshCasper/Rotten-Scripts...    Closed   \n",
       "\n",
       "                          PR Contributors  \n",
       "0                [whyadiwhy, HarshCasper]  \n",
       "1                [whyadiwhy, HarshCasper]  \n",
       "2                [whyadiwhy, HarshCasper]  \n",
       "3                             [whyadiwhy]  \n",
       "4    [HeyAnirudh, kskrao219, HarshCasper]  \n",
       "..                                    ...  \n",
       "693                  [mbcse, HarshCasper]  \n",
       "694              [sanket143, HarshCasper]  \n",
       "695              [seema1711, HarshCasper]  \n",
       "696              [seema1711, HarshCasper]  \n",
       "697              [seema1711, HarshCasper]  \n",
       "\n",
       "[698 rows x 5 columns]"
      ],
      "text/html": [
       "<div>\n",
       "<style scoped>\n",
       "    .dataframe tbody tr th:only-of-type {\n",
       "        vertical-align: middle;\n",
       "    }\n",
       "\n",
       "    .dataframe tbody tr th {\n",
       "        vertical-align: top;\n",
       "    }\n",
       "\n",
       "    .dataframe thead th {\n",
       "        text-align: right;\n",
       "    }\n",
       "</style>\n",
       "<table border=\"1\" class=\"dataframe\">\n",
       "  <thead>\n",
       "    <tr style=\"text-align: right;\">\n",
       "      <th></th>\n",
       "      <th>No</th>\n",
       "      <th>Info</th>\n",
       "      <th>PR Url</th>\n",
       "      <th>PR Status</th>\n",
       "      <th>PR Contributors</th>\n",
       "    </tr>\n",
       "  </thead>\n",
       "  <tbody>\n",
       "    <tr>\n",
       "      <th>0</th>\n",
       "      <td>0</td>\n",
       "      <td>This fixes #1195                wontfix       ...</td>\n",
       "      <td>https://github.com//HarshCasper/Rotten-Scripts...</td>\n",
       "      <td>Closed</td>\n",
       "      <td>[whyadiwhy, HarshCasper]</td>\n",
       "    </tr>\n",
       "    <tr>\n",
       "      <th>1</th>\n",
       "      <td>1</td>\n",
       "      <td>This Fixes #1203                invalid       ...</td>\n",
       "      <td>https://github.com//HarshCasper/Rotten-Scripts...</td>\n",
       "      <td>Closed</td>\n",
       "      <td>[whyadiwhy, HarshCasper]</td>\n",
       "    </tr>\n",
       "    <tr>\n",
       "      <th>2</th>\n",
       "      <td>2</td>\n",
       "      <td>This fixes #1195                duplicate     ...</td>\n",
       "      <td>https://github.com//HarshCasper/Rotten-Scripts...</td>\n",
       "      <td>Closed</td>\n",
       "      <td>[whyadiwhy, HarshCasper]</td>\n",
       "    </tr>\n",
       "    <tr>\n",
       "      <th>3</th>\n",
       "      <td>3</td>\n",
       "      <td>this fixes #1195                PR:Ready-to-Re...</td>\n",
       "      <td>https://github.com//HarshCasper/Rotten-Scripts...</td>\n",
       "      <td>Closed</td>\n",
       "      <td>[whyadiwhy]</td>\n",
       "    </tr>\n",
       "    <tr>\n",
       "      <th>4</th>\n",
       "      <td>4</td>\n",
       "      <td>certificate app using streamlit               ...</td>\n",
       "      <td>https://github.com//HarshCasper/Rotten-Scripts...</td>\n",
       "      <td>Closed</td>\n",
       "      <td>[HeyAnirudh, kskrao219, HarshCasper]</td>\n",
       "    </tr>\n",
       "    <tr>\n",
       "      <th>...</th>\n",
       "      <td>...</td>\n",
       "      <td>...</td>\n",
       "      <td>...</td>\n",
       "      <td>...</td>\n",
       "      <td>...</td>\n",
       "    </tr>\n",
       "    <tr>\n",
       "      <th>693</th>\n",
       "      <td>693</td>\n",
       "      <td>RSA Key Pair Generator #4          #20        ...</td>\n",
       "      <td>https://github.com//HarshCasper/Rotten-Scripts...</td>\n",
       "      <td>Merged</td>\n",
       "      <td>[mbcse, HarshCasper]</td>\n",
       "    </tr>\n",
       "    <tr>\n",
       "      <th>694</th>\n",
       "      <td>694</td>\n",
       "      <td>Download Instagram post images          #16   ...</td>\n",
       "      <td>https://github.com//HarshCasper/Rotten-Scripts...</td>\n",
       "      <td>Merged</td>\n",
       "      <td>[sanket143, HarshCasper]</td>\n",
       "    </tr>\n",
       "    <tr>\n",
       "      <th>695</th>\n",
       "      <td>695</td>\n",
       "      <td>Initialize HTTP server #9          #15        ...</td>\n",
       "      <td>https://github.com//HarshCasper/Rotten-Scripts...</td>\n",
       "      <td>Merged</td>\n",
       "      <td>[seema1711, HarshCasper]</td>\n",
       "    </tr>\n",
       "    <tr>\n",
       "      <th>696</th>\n",
       "      <td>696</td>\n",
       "      <td>Lorem Ipsum Text Generator #2          #7     ...</td>\n",
       "      <td>https://github.com//HarshCasper/Rotten-Scripts...</td>\n",
       "      <td>Merged</td>\n",
       "      <td>[seema1711, HarshCasper]</td>\n",
       "    </tr>\n",
       "    <tr>\n",
       "      <th>697</th>\n",
       "      <td>697</td>\n",
       "      <td>Added a script by Seema          #1           ...</td>\n",
       "      <td>https://github.com//HarshCasper/Rotten-Scripts...</td>\n",
       "      <td>Closed</td>\n",
       "      <td>[seema1711, HarshCasper]</td>\n",
       "    </tr>\n",
       "  </tbody>\n",
       "</table>\n",
       "<p>698 rows × 5 columns</p>\n",
       "</div>"
      ]
     },
     "metadata": {},
     "execution_count": 314
    }
   ],
   "metadata": {}
  },
  {
   "cell_type": "markdown",
   "source": [
    "# Flushing the Pandas DataFrame to a CSV file."
   ],
   "metadata": {}
  },
  {
   "cell_type": "code",
   "execution_count": null,
   "source": [
    "#Flushing the Pandas DataFrame to a CSV file.\r\n",
    "df.to_csv('pr_info.csv')"
   ],
   "outputs": [],
   "metadata": {}
  },
  {
   "cell_type": "markdown",
   "source": [
    "# PR Status Glimpse along with a graph"
   ],
   "metadata": {}
  },
  {
   "cell_type": "code",
   "execution_count": 759,
   "source": [
    "#code block to plot a bar graph\r\n",
    "colors=['green','red','purple']\r\n",
    "plt.figure(figsize=(6,7))\r\n",
    "plt.bar(\r\n",
    "    [\"Open\",\"Closed\",\"Merged\"],\r\n",
    "    height=[len(df[df['PR Status']=='Open']),len(df[df['PR Status']=='Closed']),len(df[df['PR Status']=='Merged'])],\r\n",
    "    width=0.8,\r\n",
    "    color=colors,\r\n",
    "    zorder=2\r\n",
    ")\r\n",
    "plt.title('PR Status',fontsize=24)\r\n",
    "plt.grid(zorder=1)\r\n",
    "plt.show()"
   ],
   "outputs": [
    {
     "output_type": "display_data",
     "data": {
      "text/plain": [
       "<Figure size 432x504 with 1 Axes>"
      ],
      "image/svg+xml": "<?xml version=\"1.0\" encoding=\"utf-8\" standalone=\"no\"?>\r\n<!DOCTYPE svg PUBLIC \"-//W3C//DTD SVG 1.1//EN\"\r\n  \"http://www.w3.org/Graphics/SVG/1.1/DTD/svg11.dtd\">\r\n<!-- Created with matplotlib (https://matplotlib.org/) -->\r\n<svg height=\"442.783281pt\" version=\"1.1\" viewBox=\"0 0 383.220344 442.783281\" width=\"383.220344pt\" xmlns=\"http://www.w3.org/2000/svg\" xmlns:xlink=\"http://www.w3.org/1999/xlink\">\r\n <defs>\r\n  <style type=\"text/css\">\r\n*{stroke-linecap:butt;stroke-linejoin:round;}\r\n  </style>\r\n </defs>\r\n <g id=\"figure_1\">\r\n  <g id=\"patch_1\">\r\n   <path d=\"M 0 442.783281 \r\nL 383.220344 442.783281 \r\nL 383.220344 0 \r\nL 0 0 \r\nz\r\n\" style=\"fill:#232323;\"/>\r\n  </g>\r\n  <g id=\"axes_1\">\r\n   <g id=\"patch_2\">\r\n    <path d=\"M 41.220344 410.89875 \r\nL 376.020344 410.89875 \r\nL 376.020344 30.37875 \r\nL 41.220344 30.37875 \r\nz\r\n\" style=\"fill:#232323;\"/>\r\n   </g>\r\n   <g id=\"matplotlib.axis_1\">\r\n    <g id=\"xtick_1\">\r\n     <g id=\"line2d_1\">\r\n      <path clip-path=\"url(#p46476fbfb9)\" d=\"M 99.919045 410.89875 \r\nL 99.919045 30.37875 \r\n\" style=\"fill:none;stroke:#303030;stroke-linecap:square;stroke-width:1.4;\"/>\r\n     </g>\r\n     <g id=\"line2d_2\">\r\n      <defs>\r\n       <path d=\"M 0 0 \r\nL 0 6 \r\n\" id=\"ma1b6edb3bd\" style=\"stroke:#bbbbbb;\"/>\r\n      </defs>\r\n      <g>\r\n       <use style=\"fill:#bbbbbb;stroke:#bbbbbb;\" x=\"99.919045\" xlink:href=\"#ma1b6edb3bd\" y=\"410.89875\"/>\r\n      </g>\r\n     </g>\r\n     <g id=\"text_1\">\r\n      <!-- Open -->\r\n      <defs>\r\n       <path d=\"M 4.828125 34.859375 \r\nQ 4.828125 52.6875 14.390625 62.765625 \r\nQ 23.96875 72.859375 39.109375 72.859375 \r\nQ 49.03125 72.859375 56.984375 68.109375 \r\nQ 64.9375 63.375 69.109375 54.90625 \r\nQ 73.296875 46.4375 73.296875 35.6875 \r\nQ 73.296875 24.8125 68.890625 16.21875 \r\nQ 64.5 7.625 56.4375 3.203125 \r\nQ 48.390625 -1.21875 39.0625 -1.21875 \r\nQ 28.953125 -1.21875 20.984375 3.65625 \r\nQ 13.03125 8.546875 8.921875 16.984375 \r\nQ 4.828125 25.4375 4.828125 34.859375 \r\nz\r\nM 14.59375 34.71875 \r\nQ 14.59375 21.78125 21.546875 14.328125 \r\nQ 28.515625 6.890625 39.015625 6.890625 \r\nQ 49.703125 6.890625 56.609375 14.40625 \r\nQ 63.53125 21.921875 63.53125 35.75 \r\nQ 63.53125 44.484375 60.578125 51 \r\nQ 57.625 57.515625 51.921875 61.109375 \r\nQ 46.234375 64.703125 39.15625 64.703125 \r\nQ 29.109375 64.703125 21.84375 57.78125 \r\nQ 14.59375 50.875 14.59375 34.71875 \r\nz\r\n\" id=\"ArialMT-79\"/>\r\n       <path d=\"M 6.59375 -19.875 \r\nL 6.59375 51.859375 \r\nL 14.59375 51.859375 \r\nL 14.59375 45.125 \r\nQ 17.4375 49.078125 21 51.046875 \r\nQ 24.5625 53.03125 29.640625 53.03125 \r\nQ 36.28125 53.03125 41.359375 49.609375 \r\nQ 46.4375 46.1875 49.015625 39.953125 \r\nQ 51.609375 33.734375 51.609375 26.3125 \r\nQ 51.609375 18.359375 48.75 11.984375 \r\nQ 45.90625 5.609375 40.453125 2.21875 \r\nQ 35.015625 -1.171875 29 -1.171875 \r\nQ 24.609375 -1.171875 21.109375 0.6875 \r\nQ 17.625 2.546875 15.375 5.375 \r\nL 15.375 -19.875 \r\nz\r\nM 14.546875 25.640625 \r\nQ 14.546875 15.625 18.59375 10.84375 \r\nQ 22.65625 6.0625 28.421875 6.0625 \r\nQ 34.28125 6.0625 38.453125 11.015625 \r\nQ 42.625 15.96875 42.625 26.375 \r\nQ 42.625 36.28125 38.546875 41.203125 \r\nQ 34.46875 46.140625 28.8125 46.140625 \r\nQ 23.1875 46.140625 18.859375 40.890625 \r\nQ 14.546875 35.640625 14.546875 25.640625 \r\nz\r\n\" id=\"ArialMT-112\"/>\r\n       <path d=\"M 42.09375 16.703125 \r\nL 51.171875 15.578125 \r\nQ 49.03125 7.625 43.21875 3.21875 \r\nQ 37.40625 -1.171875 28.375 -1.171875 \r\nQ 17 -1.171875 10.328125 5.828125 \r\nQ 3.65625 12.84375 3.65625 25.484375 \r\nQ 3.65625 38.578125 10.390625 45.796875 \r\nQ 17.140625 53.03125 27.875 53.03125 \r\nQ 38.28125 53.03125 44.875 45.953125 \r\nQ 51.46875 38.875 51.46875 26.03125 \r\nQ 51.46875 25.25 51.421875 23.6875 \r\nL 12.75 23.6875 \r\nQ 13.234375 15.140625 17.578125 10.59375 \r\nQ 21.921875 6.0625 28.421875 6.0625 \r\nQ 33.25 6.0625 36.671875 8.59375 \r\nQ 40.09375 11.140625 42.09375 16.703125 \r\nz\r\nM 13.234375 30.90625 \r\nL 42.1875 30.90625 \r\nQ 41.609375 37.453125 38.875 40.71875 \r\nQ 34.671875 45.796875 27.984375 45.796875 \r\nQ 21.921875 45.796875 17.796875 41.75 \r\nQ 13.671875 37.703125 13.234375 30.90625 \r\nz\r\n\" id=\"ArialMT-101\"/>\r\n       <path d=\"M 6.59375 0 \r\nL 6.59375 51.859375 \r\nL 14.5 51.859375 \r\nL 14.5 44.484375 \r\nQ 20.21875 53.03125 31 53.03125 \r\nQ 35.6875 53.03125 39.625 51.34375 \r\nQ 43.5625 49.65625 45.515625 46.921875 \r\nQ 47.46875 44.1875 48.25 40.4375 \r\nQ 48.734375 37.984375 48.734375 31.890625 \r\nL 48.734375 0 \r\nL 39.9375 0 \r\nL 39.9375 31.546875 \r\nQ 39.9375 36.921875 38.90625 39.578125 \r\nQ 37.890625 42.234375 35.28125 43.8125 \r\nQ 32.671875 45.40625 29.15625 45.40625 \r\nQ 23.53125 45.40625 19.453125 41.84375 \r\nQ 15.375 38.28125 15.375 28.328125 \r\nL 15.375 0 \r\nz\r\n\" id=\"ArialMT-110\"/>\r\n      </defs>\r\n      <g style=\"fill:#bbbbbb;\" transform=\"translate(84.508654 433.079031)scale(0.126 -0.126)\">\r\n       <use xlink:href=\"#ArialMT-79\"/>\r\n       <use x=\"77.783203\" xlink:href=\"#ArialMT-112\"/>\r\n       <use x=\"133.398438\" xlink:href=\"#ArialMT-101\"/>\r\n       <use x=\"189.013672\" xlink:href=\"#ArialMT-110\"/>\r\n      </g>\r\n     </g>\r\n    </g>\r\n    <g id=\"xtick_2\">\r\n     <g id=\"line2d_3\">\r\n      <path clip-path=\"url(#p46476fbfb9)\" d=\"M 208.620344 410.89875 \r\nL 208.620344 30.37875 \r\n\" style=\"fill:none;stroke:#303030;stroke-linecap:square;stroke-width:1.4;\"/>\r\n     </g>\r\n     <g id=\"line2d_4\">\r\n      <g>\r\n       <use style=\"fill:#bbbbbb;stroke:#bbbbbb;\" x=\"208.620344\" xlink:href=\"#ma1b6edb3bd\" y=\"410.89875\"/>\r\n      </g>\r\n     </g>\r\n     <g id=\"text_2\">\r\n      <!-- Closed -->\r\n      <defs>\r\n       <path d=\"M 58.796875 25.09375 \r\nL 68.265625 22.703125 \r\nQ 65.28125 11.03125 57.546875 4.90625 \r\nQ 49.8125 -1.21875 38.625 -1.21875 \r\nQ 27.046875 -1.21875 19.796875 3.484375 \r\nQ 12.546875 8.203125 8.765625 17.140625 \r\nQ 4.984375 26.078125 4.984375 36.328125 \r\nQ 4.984375 47.515625 9.25 55.828125 \r\nQ 13.53125 64.15625 21.40625 68.46875 \r\nQ 29.296875 72.796875 38.765625 72.796875 \r\nQ 49.515625 72.796875 56.828125 67.328125 \r\nQ 64.15625 61.859375 67.046875 51.953125 \r\nL 57.71875 49.75 \r\nQ 55.21875 57.5625 50.484375 61.125 \r\nQ 45.75 64.703125 38.578125 64.703125 \r\nQ 30.328125 64.703125 24.78125 60.734375 \r\nQ 19.234375 56.78125 16.984375 50.109375 \r\nQ 14.75 43.453125 14.75 36.375 \r\nQ 14.75 27.25 17.40625 20.4375 \r\nQ 20.0625 13.625 25.671875 10.25 \r\nQ 31.296875 6.890625 37.84375 6.890625 \r\nQ 45.796875 6.890625 51.3125 11.46875 \r\nQ 56.84375 16.0625 58.796875 25.09375 \r\nz\r\n\" id=\"ArialMT-67\"/>\r\n       <path d=\"M 6.390625 0 \r\nL 6.390625 71.578125 \r\nL 15.1875 71.578125 \r\nL 15.1875 0 \r\nz\r\n\" id=\"ArialMT-108\"/>\r\n       <path d=\"M 3.328125 25.921875 \r\nQ 3.328125 40.328125 11.328125 47.265625 \r\nQ 18.015625 53.03125 27.640625 53.03125 \r\nQ 38.328125 53.03125 45.109375 46.015625 \r\nQ 51.90625 39.015625 51.90625 26.65625 \r\nQ 51.90625 16.65625 48.90625 10.90625 \r\nQ 45.90625 5.171875 40.15625 2 \r\nQ 34.421875 -1.171875 27.640625 -1.171875 \r\nQ 16.75 -1.171875 10.03125 5.8125 \r\nQ 3.328125 12.796875 3.328125 25.921875 \r\nz\r\nM 12.359375 25.921875 \r\nQ 12.359375 15.96875 16.703125 11.015625 \r\nQ 21.046875 6.0625 27.640625 6.0625 \r\nQ 34.1875 6.0625 38.53125 11.03125 \r\nQ 42.875 16.015625 42.875 26.21875 \r\nQ 42.875 35.84375 38.5 40.796875 \r\nQ 34.125 45.75 27.640625 45.75 \r\nQ 21.046875 45.75 16.703125 40.8125 \r\nQ 12.359375 35.890625 12.359375 25.921875 \r\nz\r\n\" id=\"ArialMT-111\"/>\r\n       <path d=\"M 3.078125 15.484375 \r\nL 11.765625 16.84375 \r\nQ 12.5 11.625 15.84375 8.84375 \r\nQ 19.1875 6.0625 25.203125 6.0625 \r\nQ 31.25 6.0625 34.171875 8.515625 \r\nQ 37.109375 10.984375 37.109375 14.3125 \r\nQ 37.109375 17.28125 34.515625 19 \r\nQ 32.71875 20.171875 25.53125 21.96875 \r\nQ 15.875 24.421875 12.140625 26.203125 \r\nQ 8.40625 27.984375 6.46875 31.125 \r\nQ 4.546875 34.28125 4.546875 38.09375 \r\nQ 4.546875 41.546875 6.125 44.5 \r\nQ 7.71875 47.46875 10.453125 49.421875 \r\nQ 12.5 50.921875 16.03125 51.96875 \r\nQ 19.578125 53.03125 23.640625 53.03125 \r\nQ 29.734375 53.03125 34.34375 51.265625 \r\nQ 38.96875 49.515625 41.15625 46.5 \r\nQ 43.359375 43.5 44.1875 38.484375 \r\nL 35.59375 37.3125 \r\nQ 35.015625 41.3125 32.203125 43.546875 \r\nQ 29.390625 45.796875 24.265625 45.796875 \r\nQ 18.21875 45.796875 15.625 43.796875 \r\nQ 13.03125 41.796875 13.03125 39.109375 \r\nQ 13.03125 37.40625 14.109375 36.03125 \r\nQ 15.1875 34.625 17.484375 33.6875 \r\nQ 18.796875 33.203125 25.25 31.453125 \r\nQ 34.578125 28.953125 38.25 27.359375 \r\nQ 41.9375 25.78125 44.03125 22.75 \r\nQ 46.140625 19.734375 46.140625 15.234375 \r\nQ 46.140625 10.84375 43.578125 6.953125 \r\nQ 41.015625 3.078125 36.171875 0.953125 \r\nQ 31.34375 -1.171875 25.25 -1.171875 \r\nQ 15.140625 -1.171875 9.84375 3.03125 \r\nQ 4.546875 7.234375 3.078125 15.484375 \r\nz\r\n\" id=\"ArialMT-115\"/>\r\n       <path d=\"M 40.234375 0 \r\nL 40.234375 6.546875 \r\nQ 35.296875 -1.171875 25.734375 -1.171875 \r\nQ 19.53125 -1.171875 14.328125 2.25 \r\nQ 9.125 5.671875 6.265625 11.796875 \r\nQ 3.421875 17.921875 3.421875 25.875 \r\nQ 3.421875 33.640625 6 39.96875 \r\nQ 8.59375 46.296875 13.765625 49.65625 \r\nQ 18.953125 53.03125 25.34375 53.03125 \r\nQ 30.03125 53.03125 33.6875 51.046875 \r\nQ 37.359375 49.078125 39.65625 45.90625 \r\nL 39.65625 71.578125 \r\nL 48.390625 71.578125 \r\nL 48.390625 0 \r\nz\r\nM 12.453125 25.875 \r\nQ 12.453125 15.921875 16.640625 10.984375 \r\nQ 20.84375 6.0625 26.5625 6.0625 \r\nQ 32.328125 6.0625 36.34375 10.765625 \r\nQ 40.375 15.484375 40.375 25.140625 \r\nQ 40.375 35.796875 36.265625 40.765625 \r\nQ 32.171875 45.75 26.171875 45.75 \r\nQ 20.3125 45.75 16.375 40.96875 \r\nQ 12.453125 36.1875 12.453125 25.875 \r\nz\r\n\" id=\"ArialMT-100\"/>\r\n      </defs>\r\n      <g style=\"fill:#bbbbbb;\" transform=\"translate(189.010609 432.917594)scale(0.126 -0.126)\">\r\n       <use xlink:href=\"#ArialMT-67\"/>\r\n       <use x=\"72.216797\" xlink:href=\"#ArialMT-108\"/>\r\n       <use x=\"94.433594\" xlink:href=\"#ArialMT-111\"/>\r\n       <use x=\"150.048828\" xlink:href=\"#ArialMT-115\"/>\r\n       <use x=\"200.048828\" xlink:href=\"#ArialMT-101\"/>\r\n       <use x=\"255.664062\" xlink:href=\"#ArialMT-100\"/>\r\n      </g>\r\n     </g>\r\n    </g>\r\n    <g id=\"xtick_3\">\r\n     <g id=\"line2d_5\">\r\n      <path clip-path=\"url(#p46476fbfb9)\" d=\"M 317.321642 410.89875 \r\nL 317.321642 30.37875 \r\n\" style=\"fill:none;stroke:#303030;stroke-linecap:square;stroke-width:1.4;\"/>\r\n     </g>\r\n     <g id=\"line2d_6\">\r\n      <g>\r\n       <use style=\"fill:#bbbbbb;stroke:#bbbbbb;\" x=\"317.321642\" xlink:href=\"#ma1b6edb3bd\" y=\"410.89875\"/>\r\n      </g>\r\n     </g>\r\n     <g id=\"text_3\">\r\n      <!-- Merged -->\r\n      <defs>\r\n       <path d=\"M 7.421875 0 \r\nL 7.421875 71.578125 \r\nL 21.6875 71.578125 \r\nL 38.625 20.90625 \r\nQ 40.96875 13.8125 42.046875 10.296875 \r\nQ 43.265625 14.203125 45.84375 21.78125 \r\nL 62.984375 71.578125 \r\nL 75.734375 71.578125 \r\nL 75.734375 0 \r\nL 66.609375 0 \r\nL 66.609375 59.90625 \r\nL 45.796875 0 \r\nL 37.25 0 \r\nL 16.546875 60.9375 \r\nL 16.546875 0 \r\nz\r\n\" id=\"ArialMT-77\"/>\r\n       <path d=\"M 6.5 0 \r\nL 6.5 51.859375 \r\nL 14.40625 51.859375 \r\nL 14.40625 44 \r\nQ 17.4375 49.515625 20 51.265625 \r\nQ 22.5625 53.03125 25.640625 53.03125 \r\nQ 30.078125 53.03125 34.671875 50.203125 \r\nL 31.640625 42.046875 \r\nQ 28.421875 43.953125 25.203125 43.953125 \r\nQ 22.3125 43.953125 20.015625 42.21875 \r\nQ 17.71875 40.484375 16.75 37.40625 \r\nQ 15.28125 32.71875 15.28125 27.15625 \r\nL 15.28125 0 \r\nz\r\n\" id=\"ArialMT-114\"/>\r\n       <path d=\"M 4.984375 -4.296875 \r\nL 13.53125 -5.5625 \r\nQ 14.0625 -9.515625 16.5 -11.328125 \r\nQ 19.78125 -13.765625 25.4375 -13.765625 \r\nQ 31.546875 -13.765625 34.859375 -11.328125 \r\nQ 38.1875 -8.890625 39.359375 -4.5 \r\nQ 40.046875 -1.8125 39.984375 6.78125 \r\nQ 34.234375 0 25.640625 0 \r\nQ 14.9375 0 9.078125 7.71875 \r\nQ 3.21875 15.4375 3.21875 26.21875 \r\nQ 3.21875 33.640625 5.90625 39.90625 \r\nQ 8.59375 46.1875 13.6875 49.609375 \r\nQ 18.796875 53.03125 25.6875 53.03125 \r\nQ 34.859375 53.03125 40.828125 45.609375 \r\nL 40.828125 51.859375 \r\nL 48.921875 51.859375 \r\nL 48.921875 7.03125 \r\nQ 48.921875 -5.078125 46.453125 -10.125 \r\nQ 44 -15.1875 38.640625 -18.109375 \r\nQ 33.296875 -21.046875 25.484375 -21.046875 \r\nQ 16.21875 -21.046875 10.5 -16.875 \r\nQ 4.78125 -12.703125 4.984375 -4.296875 \r\nz\r\nM 12.25 26.859375 \r\nQ 12.25 16.65625 16.296875 11.96875 \r\nQ 20.359375 7.28125 26.46875 7.28125 \r\nQ 32.515625 7.28125 36.609375 11.9375 \r\nQ 40.71875 16.609375 40.71875 26.5625 \r\nQ 40.71875 36.078125 36.5 40.90625 \r\nQ 32.28125 45.75 26.3125 45.75 \r\nQ 20.453125 45.75 16.34375 40.984375 \r\nQ 12.25 36.234375 12.25 26.859375 \r\nz\r\n\" id=\"ArialMT-103\"/>\r\n      </defs>\r\n      <g style=\"fill:#bbbbbb;\" transform=\"translate(295.962674 432.917594)scale(0.126 -0.126)\">\r\n       <use xlink:href=\"#ArialMT-77\"/>\r\n       <use x=\"83.300781\" xlink:href=\"#ArialMT-101\"/>\r\n       <use x=\"138.916016\" xlink:href=\"#ArialMT-114\"/>\r\n       <use x=\"172.216797\" xlink:href=\"#ArialMT-103\"/>\r\n       <use x=\"227.832031\" xlink:href=\"#ArialMT-101\"/>\r\n       <use x=\"283.447266\" xlink:href=\"#ArialMT-100\"/>\r\n      </g>\r\n     </g>\r\n    </g>\r\n   </g>\r\n   <g id=\"matplotlib.axis_2\">\r\n    <g id=\"ytick_1\">\r\n     <g id=\"line2d_7\">\r\n      <path clip-path=\"url(#p46476fbfb9)\" d=\"M 41.220344 410.89875 \r\nL 376.020344 410.89875 \r\n\" style=\"fill:none;stroke:#303030;stroke-linecap:square;stroke-width:1.4;\"/>\r\n     </g>\r\n     <g id=\"line2d_8\">\r\n      <defs>\r\n       <path d=\"M 0 0 \r\nL -6 0 \r\n\" id=\"mef4766790c\" style=\"stroke:#bbbbbb;\"/>\r\n      </defs>\r\n      <g>\r\n       <use style=\"fill:#bbbbbb;stroke:#bbbbbb;\" x=\"41.220344\" xlink:href=\"#mef4766790c\" y=\"410.89875\"/>\r\n      </g>\r\n     </g>\r\n     <g id=\"text_4\">\r\n      <!-- 0 -->\r\n      <defs>\r\n       <path d=\"M 4.15625 35.296875 \r\nQ 4.15625 48 6.765625 55.734375 \r\nQ 9.375 63.484375 14.515625 67.671875 \r\nQ 19.671875 71.875 27.484375 71.875 \r\nQ 33.25 71.875 37.59375 69.546875 \r\nQ 41.9375 67.234375 44.765625 62.859375 \r\nQ 47.609375 58.5 49.21875 52.21875 \r\nQ 50.828125 45.953125 50.828125 35.296875 \r\nQ 50.828125 22.703125 48.234375 14.96875 \r\nQ 45.65625 7.234375 40.5 3 \r\nQ 35.359375 -1.21875 27.484375 -1.21875 \r\nQ 17.140625 -1.21875 11.234375 6.203125 \r\nQ 4.15625 15.140625 4.15625 35.296875 \r\nz\r\nM 13.1875 35.296875 \r\nQ 13.1875 17.671875 17.3125 11.828125 \r\nQ 21.4375 6 27.484375 6 \r\nQ 33.546875 6 37.671875 11.859375 \r\nQ 41.796875 17.71875 41.796875 35.296875 \r\nQ 41.796875 52.984375 37.671875 58.78125 \r\nQ 33.546875 64.59375 27.390625 64.59375 \r\nQ 21.34375 64.59375 17.71875 59.46875 \r\nQ 13.1875 52.9375 13.1875 35.296875 \r\nz\r\n\" id=\"ArialMT-48\"/>\r\n      </defs>\r\n      <g style=\"fill:#bbbbbb;\" transform=\"translate(21.213562 415.408172)scale(0.126 -0.126)\">\r\n       <use xlink:href=\"#ArialMT-48\"/>\r\n      </g>\r\n     </g>\r\n    </g>\r\n    <g id=\"ytick_2\">\r\n     <g id=\"line2d_9\">\r\n      <path clip-path=\"url(#p46476fbfb9)\" d=\"M 41.220344 328.9078 \r\nL 376.020344 328.9078 \r\n\" style=\"fill:none;stroke:#303030;stroke-linecap:square;stroke-width:1.4;\"/>\r\n     </g>\r\n     <g id=\"line2d_10\">\r\n      <g>\r\n       <use style=\"fill:#bbbbbb;stroke:#bbbbbb;\" x=\"41.220344\" xlink:href=\"#mef4766790c\" y=\"328.9078\"/>\r\n      </g>\r\n     </g>\r\n     <g id=\"text_5\">\r\n      <!-- 100 -->\r\n      <defs>\r\n       <path d=\"M 37.25 0 \r\nL 28.46875 0 \r\nL 28.46875 56 \r\nQ 25.296875 52.984375 20.140625 49.953125 \r\nQ 14.984375 46.921875 10.890625 45.40625 \r\nL 10.890625 53.90625 \r\nQ 18.265625 57.375 23.78125 62.296875 \r\nQ 29.296875 67.234375 31.59375 71.875 \r\nL 37.25 71.875 \r\nz\r\n\" id=\"ArialMT-49\"/>\r\n      </defs>\r\n      <g style=\"fill:#bbbbbb;\" transform=\"translate(7.2 333.417222)scale(0.126 -0.126)\">\r\n       <use xlink:href=\"#ArialMT-49\"/>\r\n       <use x=\"55.615234\" xlink:href=\"#ArialMT-48\"/>\r\n       <use x=\"111.230469\" xlink:href=\"#ArialMT-48\"/>\r\n      </g>\r\n     </g>\r\n    </g>\r\n    <g id=\"ytick_3\">\r\n     <g id=\"line2d_11\">\r\n      <path clip-path=\"url(#p46476fbfb9)\" d=\"M 41.220344 246.91685 \r\nL 376.020344 246.91685 \r\n\" style=\"fill:none;stroke:#303030;stroke-linecap:square;stroke-width:1.4;\"/>\r\n     </g>\r\n     <g id=\"line2d_12\">\r\n      <g>\r\n       <use style=\"fill:#bbbbbb;stroke:#bbbbbb;\" x=\"41.220344\" xlink:href=\"#mef4766790c\" y=\"246.91685\"/>\r\n      </g>\r\n     </g>\r\n     <g id=\"text_6\">\r\n      <!-- 200 -->\r\n      <defs>\r\n       <path d=\"M 50.34375 8.453125 \r\nL 50.34375 0 \r\nL 3.03125 0 \r\nQ 2.9375 3.171875 4.046875 6.109375 \r\nQ 5.859375 10.9375 9.828125 15.625 \r\nQ 13.8125 20.3125 21.34375 26.46875 \r\nQ 33.015625 36.03125 37.109375 41.625 \r\nQ 41.21875 47.21875 41.21875 52.203125 \r\nQ 41.21875 57.421875 37.46875 61 \r\nQ 33.734375 64.59375 27.734375 64.59375 \r\nQ 21.390625 64.59375 17.578125 60.78125 \r\nQ 13.765625 56.984375 13.71875 50.25 \r\nL 4.6875 51.171875 \r\nQ 5.609375 61.28125 11.65625 66.578125 \r\nQ 17.71875 71.875 27.9375 71.875 \r\nQ 38.234375 71.875 44.234375 66.15625 \r\nQ 50.25 60.453125 50.25 52 \r\nQ 50.25 47.703125 48.484375 43.546875 \r\nQ 46.734375 39.40625 42.65625 34.8125 \r\nQ 38.578125 30.21875 29.109375 22.21875 \r\nQ 21.1875 15.578125 18.9375 13.203125 \r\nQ 16.703125 10.84375 15.234375 8.453125 \r\nz\r\n\" id=\"ArialMT-50\"/>\r\n      </defs>\r\n      <g style=\"fill:#bbbbbb;\" transform=\"translate(7.2 251.426271)scale(0.126 -0.126)\">\r\n       <use xlink:href=\"#ArialMT-50\"/>\r\n       <use x=\"55.615234\" xlink:href=\"#ArialMT-48\"/>\r\n       <use x=\"111.230469\" xlink:href=\"#ArialMT-48\"/>\r\n      </g>\r\n     </g>\r\n    </g>\r\n    <g id=\"ytick_4\">\r\n     <g id=\"line2d_13\">\r\n      <path clip-path=\"url(#p46476fbfb9)\" d=\"M 41.220344 164.925899 \r\nL 376.020344 164.925899 \r\n\" style=\"fill:none;stroke:#303030;stroke-linecap:square;stroke-width:1.4;\"/>\r\n     </g>\r\n     <g id=\"line2d_14\">\r\n      <g>\r\n       <use style=\"fill:#bbbbbb;stroke:#bbbbbb;\" x=\"41.220344\" xlink:href=\"#mef4766790c\" y=\"164.925899\"/>\r\n      </g>\r\n     </g>\r\n     <g id=\"text_7\">\r\n      <!-- 300 -->\r\n      <defs>\r\n       <path d=\"M 4.203125 18.890625 \r\nL 12.984375 20.0625 \r\nQ 14.5 12.59375 18.140625 9.296875 \r\nQ 21.78125 6 27 6 \r\nQ 33.203125 6 37.46875 10.296875 \r\nQ 41.75 14.59375 41.75 20.953125 \r\nQ 41.75 27 37.796875 30.921875 \r\nQ 33.84375 34.859375 27.734375 34.859375 \r\nQ 25.25 34.859375 21.53125 33.890625 \r\nL 22.515625 41.609375 \r\nQ 23.390625 41.5 23.921875 41.5 \r\nQ 29.546875 41.5 34.03125 44.421875 \r\nQ 38.53125 47.359375 38.53125 53.46875 \r\nQ 38.53125 58.296875 35.25 61.46875 \r\nQ 31.984375 64.65625 26.8125 64.65625 \r\nQ 21.6875 64.65625 18.265625 61.421875 \r\nQ 14.84375 58.203125 13.875 51.765625 \r\nL 5.078125 53.328125 \r\nQ 6.6875 62.15625 12.390625 67.015625 \r\nQ 18.109375 71.875 26.609375 71.875 \r\nQ 32.46875 71.875 37.390625 69.359375 \r\nQ 42.328125 66.84375 44.9375 62.5 \r\nQ 47.5625 58.15625 47.5625 53.265625 \r\nQ 47.5625 48.640625 45.0625 44.828125 \r\nQ 42.578125 41.015625 37.703125 38.765625 \r\nQ 44.046875 37.3125 47.5625 32.6875 \r\nQ 51.078125 28.078125 51.078125 21.140625 \r\nQ 51.078125 11.765625 44.234375 5.25 \r\nQ 37.40625 -1.265625 26.953125 -1.265625 \r\nQ 17.53125 -1.265625 11.296875 4.34375 \r\nQ 5.078125 9.96875 4.203125 18.890625 \r\nz\r\n\" id=\"ArialMT-51\"/>\r\n      </defs>\r\n      <g style=\"fill:#bbbbbb;\" transform=\"translate(7.2 169.435321)scale(0.126 -0.126)\">\r\n       <use xlink:href=\"#ArialMT-51\"/>\r\n       <use x=\"55.615234\" xlink:href=\"#ArialMT-48\"/>\r\n       <use x=\"111.230469\" xlink:href=\"#ArialMT-48\"/>\r\n      </g>\r\n     </g>\r\n    </g>\r\n    <g id=\"ytick_5\">\r\n     <g id=\"line2d_15\">\r\n      <path clip-path=\"url(#p46476fbfb9)\" d=\"M 41.220344 82.934949 \r\nL 376.020344 82.934949 \r\n\" style=\"fill:none;stroke:#303030;stroke-linecap:square;stroke-width:1.4;\"/>\r\n     </g>\r\n     <g id=\"line2d_16\">\r\n      <g>\r\n       <use style=\"fill:#bbbbbb;stroke:#bbbbbb;\" x=\"41.220344\" xlink:href=\"#mef4766790c\" y=\"82.934949\"/>\r\n      </g>\r\n     </g>\r\n     <g id=\"text_8\">\r\n      <!-- 400 -->\r\n      <defs>\r\n       <path d=\"M 32.328125 0 \r\nL 32.328125 17.140625 \r\nL 1.265625 17.140625 \r\nL 1.265625 25.203125 \r\nL 33.9375 71.578125 \r\nL 41.109375 71.578125 \r\nL 41.109375 25.203125 \r\nL 50.78125 25.203125 \r\nL 50.78125 17.140625 \r\nL 41.109375 17.140625 \r\nL 41.109375 0 \r\nz\r\nM 32.328125 25.203125 \r\nL 32.328125 57.46875 \r\nL 9.90625 25.203125 \r\nz\r\n\" id=\"ArialMT-52\"/>\r\n      </defs>\r\n      <g style=\"fill:#bbbbbb;\" transform=\"translate(7.2 87.444371)scale(0.126 -0.126)\">\r\n       <use xlink:href=\"#ArialMT-52\"/>\r\n       <use x=\"55.615234\" xlink:href=\"#ArialMT-48\"/>\r\n       <use x=\"111.230469\" xlink:href=\"#ArialMT-48\"/>\r\n      </g>\r\n     </g>\r\n    </g>\r\n   </g>\r\n   <g id=\"patch_3\">\r\n    <path clip-path=\"url(#p46476fbfb9)\" d=\"M 56.438526 410.89875 \r\nL 143.399565 410.89875 \r\nL 143.399565 397.780198 \r\nL 56.438526 397.780198 \r\nz\r\n\" style=\"fill:#008000;\"/>\r\n   </g>\r\n   <g id=\"patch_4\">\r\n    <path clip-path=\"url(#p46476fbfb9)\" d=\"M 165.139824 410.89875 \r\nL 252.100863 410.89875 \r\nL 252.100863 214.120469 \r\nL 165.139824 214.120469 \r\nz\r\n\" style=\"fill:#ff0000;\"/>\r\n   </g>\r\n   <g id=\"patch_5\">\r\n    <path clip-path=\"url(#p46476fbfb9)\" d=\"M 273.841123 410.89875 \r\nL 360.802162 410.89875 \r\nL 360.802162 48.49875 \r\nL 273.841123 48.49875 \r\nz\r\n\" style=\"fill:#800080;\"/>\r\n   </g>\r\n   <g id=\"patch_6\">\r\n    <path d=\"M 41.220344 410.89875 \r\nL 41.220344 30.37875 \r\n\" style=\"fill:none;stroke:#888888;stroke-linecap:square;stroke-linejoin:miter;stroke-width:1.4;\"/>\r\n   </g>\r\n   <g id=\"patch_7\">\r\n    <path d=\"M 376.020344 410.89875 \r\nL 376.020344 30.37875 \r\n\" style=\"fill:none;stroke:#888888;stroke-linecap:square;stroke-linejoin:miter;stroke-width:1.4;\"/>\r\n   </g>\r\n   <g id=\"patch_8\">\r\n    <path d=\"M 41.220344 410.89875 \r\nL 376.020344 410.89875 \r\n\" style=\"fill:none;stroke:#888888;stroke-linecap:square;stroke-linejoin:miter;stroke-width:1.4;\"/>\r\n   </g>\r\n   <g id=\"patch_9\">\r\n    <path d=\"M 41.220344 30.37875 \r\nL 376.020344 30.37875 \r\n\" style=\"fill:none;stroke:#888888;stroke-linecap:square;stroke-linejoin:miter;stroke-width:1.4;\"/>\r\n   </g>\r\n   <g id=\"text_9\">\r\n    <!-- PR Status -->\r\n    <defs>\r\n     <path d=\"M 7.71875 0 \r\nL 7.71875 71.578125 \r\nL 34.71875 71.578125 \r\nQ 41.84375 71.578125 45.609375 70.90625 \r\nQ 50.875 70.015625 54.4375 67.546875 \r\nQ 58.015625 65.09375 60.1875 60.640625 \r\nQ 62.359375 56.203125 62.359375 50.875 \r\nQ 62.359375 41.75 56.546875 35.421875 \r\nQ 50.734375 29.109375 35.546875 29.109375 \r\nL 17.1875 29.109375 \r\nL 17.1875 0 \r\nz\r\nM 17.1875 37.546875 \r\nL 35.6875 37.546875 \r\nQ 44.875 37.546875 48.734375 40.96875 \r\nQ 52.59375 44.390625 52.59375 50.59375 \r\nQ 52.59375 55.078125 50.3125 58.265625 \r\nQ 48.046875 61.46875 44.34375 62.5 \r\nQ 41.9375 63.140625 35.5 63.140625 \r\nL 17.1875 63.140625 \r\nz\r\n\" id=\"ArialMT-80\"/>\r\n     <path d=\"M 7.859375 0 \r\nL 7.859375 71.578125 \r\nL 39.59375 71.578125 \r\nQ 49.171875 71.578125 54.140625 69.640625 \r\nQ 59.125 67.71875 62.109375 62.828125 \r\nQ 65.09375 57.953125 65.09375 52.046875 \r\nQ 65.09375 44.4375 60.15625 39.203125 \r\nQ 55.21875 33.984375 44.921875 32.5625 \r\nQ 48.6875 30.765625 50.640625 29 \r\nQ 54.78125 25.203125 58.5 19.484375 \r\nL 70.953125 0 \r\nL 59.03125 0 \r\nL 49.5625 14.890625 \r\nQ 45.40625 21.34375 42.71875 24.75 \r\nQ 40.046875 28.171875 37.921875 29.53125 \r\nQ 35.796875 30.90625 33.59375 31.453125 \r\nQ 31.984375 31.78125 28.328125 31.78125 \r\nL 17.328125 31.78125 \r\nL 17.328125 0 \r\nz\r\nM 17.328125 39.984375 \r\nL 37.703125 39.984375 \r\nQ 44.1875 39.984375 47.84375 41.328125 \r\nQ 51.515625 42.671875 53.421875 45.625 \r\nQ 55.328125 48.578125 55.328125 52.046875 \r\nQ 55.328125 57.125 51.640625 60.390625 \r\nQ 47.953125 63.671875 39.984375 63.671875 \r\nL 17.328125 63.671875 \r\nz\r\n\" id=\"ArialMT-82\"/>\r\n     <path id=\"ArialMT-32\"/>\r\n     <path d=\"M 4.5 23 \r\nL 13.421875 23.78125 \r\nQ 14.0625 18.40625 16.375 14.96875 \r\nQ 18.703125 11.53125 23.578125 9.40625 \r\nQ 28.46875 7.28125 34.578125 7.28125 \r\nQ 39.984375 7.28125 44.140625 8.890625 \r\nQ 48.296875 10.5 50.3125 13.296875 \r\nQ 52.34375 16.109375 52.34375 19.4375 \r\nQ 52.34375 22.796875 50.390625 25.3125 \r\nQ 48.4375 27.828125 43.953125 29.546875 \r\nQ 41.0625 30.671875 31.203125 33.03125 \r\nQ 21.34375 35.40625 17.390625 37.5 \r\nQ 12.25 40.1875 9.734375 44.15625 \r\nQ 7.234375 48.140625 7.234375 53.078125 \r\nQ 7.234375 58.5 10.296875 63.203125 \r\nQ 13.375 67.921875 19.28125 70.359375 \r\nQ 25.203125 72.796875 32.421875 72.796875 \r\nQ 40.375 72.796875 46.453125 70.234375 \r\nQ 52.546875 67.671875 55.8125 62.6875 \r\nQ 59.078125 57.71875 59.328125 51.421875 \r\nL 50.25 50.734375 \r\nQ 49.515625 57.515625 45.28125 60.984375 \r\nQ 41.0625 64.453125 32.8125 64.453125 \r\nQ 24.21875 64.453125 20.28125 61.296875 \r\nQ 16.359375 58.15625 16.359375 53.71875 \r\nQ 16.359375 49.859375 19.140625 47.359375 \r\nQ 21.875 44.875 33.421875 42.265625 \r\nQ 44.96875 39.65625 49.265625 37.703125 \r\nQ 55.515625 34.8125 58.484375 30.390625 \r\nQ 61.46875 25.984375 61.46875 20.21875 \r\nQ 61.46875 14.5 58.203125 9.4375 \r\nQ 54.9375 4.390625 48.796875 1.578125 \r\nQ 42.671875 -1.21875 35.015625 -1.21875 \r\nQ 25.296875 -1.21875 18.71875 1.609375 \r\nQ 12.15625 4.4375 8.421875 10.125 \r\nQ 4.6875 15.828125 4.5 23 \r\nz\r\n\" id=\"ArialMT-83\"/>\r\n     <path d=\"M 25.78125 7.859375 \r\nL 27.046875 0.09375 \r\nQ 23.34375 -0.6875 20.40625 -0.6875 \r\nQ 15.625 -0.6875 12.984375 0.828125 \r\nQ 10.359375 2.34375 9.28125 4.8125 \r\nQ 8.203125 7.28125 8.203125 15.1875 \r\nL 8.203125 45.015625 \r\nL 1.765625 45.015625 \r\nL 1.765625 51.859375 \r\nL 8.203125 51.859375 \r\nL 8.203125 64.703125 \r\nL 16.9375 69.96875 \r\nL 16.9375 51.859375 \r\nL 25.78125 51.859375 \r\nL 25.78125 45.015625 \r\nL 16.9375 45.015625 \r\nL 16.9375 14.703125 \r\nQ 16.9375 10.9375 17.40625 9.859375 \r\nQ 17.875 8.796875 18.921875 8.15625 \r\nQ 19.96875 7.515625 21.921875 7.515625 \r\nQ 23.390625 7.515625 25.78125 7.859375 \r\nz\r\n\" id=\"ArialMT-116\"/>\r\n     <path d=\"M 40.4375 6.390625 \r\nQ 35.546875 2.25 31.03125 0.53125 \r\nQ 26.515625 -1.171875 21.34375 -1.171875 \r\nQ 12.796875 -1.171875 8.203125 3 \r\nQ 3.609375 7.171875 3.609375 13.671875 \r\nQ 3.609375 17.484375 5.34375 20.625 \r\nQ 7.078125 23.78125 9.890625 25.6875 \r\nQ 12.703125 27.59375 16.21875 28.5625 \r\nQ 18.796875 29.25 24.03125 29.890625 \r\nQ 34.671875 31.15625 39.703125 32.90625 \r\nQ 39.75 34.71875 39.75 35.203125 \r\nQ 39.75 40.578125 37.25 42.78125 \r\nQ 33.890625 45.75 27.25 45.75 \r\nQ 21.046875 45.75 18.09375 43.578125 \r\nQ 15.140625 41.40625 13.71875 35.890625 \r\nL 5.125 37.0625 \r\nQ 6.296875 42.578125 8.984375 45.96875 \r\nQ 11.671875 49.359375 16.75 51.1875 \r\nQ 21.828125 53.03125 28.515625 53.03125 \r\nQ 35.15625 53.03125 39.296875 51.46875 \r\nQ 43.453125 49.90625 45.40625 47.53125 \r\nQ 47.359375 45.171875 48.140625 41.546875 \r\nQ 48.578125 39.3125 48.578125 33.453125 \r\nL 48.578125 21.734375 \r\nQ 48.578125 9.46875 49.140625 6.21875 \r\nQ 49.703125 2.984375 51.375 0 \r\nL 42.1875 0 \r\nQ 40.828125 2.734375 40.4375 6.390625 \r\nz\r\nM 39.703125 26.03125 \r\nQ 34.90625 24.078125 25.34375 22.703125 \r\nQ 19.921875 21.921875 17.671875 20.9375 \r\nQ 15.4375 19.96875 14.203125 18.09375 \r\nQ 12.984375 16.21875 12.984375 13.921875 \r\nQ 12.984375 10.40625 15.640625 8.0625 \r\nQ 18.3125 5.71875 23.4375 5.71875 \r\nQ 28.515625 5.71875 32.46875 7.9375 \r\nQ 36.421875 10.15625 38.28125 14.015625 \r\nQ 39.703125 17 39.703125 22.796875 \r\nz\r\n\" id=\"ArialMT-97\"/>\r\n     <path d=\"M 40.578125 0 \r\nL 40.578125 7.625 \r\nQ 34.515625 -1.171875 24.125 -1.171875 \r\nQ 19.53125 -1.171875 15.546875 0.578125 \r\nQ 11.578125 2.34375 9.640625 5 \r\nQ 7.71875 7.671875 6.9375 11.53125 \r\nQ 6.390625 14.109375 6.390625 19.734375 \r\nL 6.390625 51.859375 \r\nL 15.1875 51.859375 \r\nL 15.1875 23.09375 \r\nQ 15.1875 16.21875 15.71875 13.8125 \r\nQ 16.546875 10.359375 19.234375 8.375 \r\nQ 21.921875 6.390625 25.875 6.390625 \r\nQ 29.828125 6.390625 33.296875 8.421875 \r\nQ 36.765625 10.453125 38.203125 13.9375 \r\nQ 39.65625 17.4375 39.65625 24.078125 \r\nL 39.65625 51.859375 \r\nL 48.4375 51.859375 \r\nL 48.4375 0 \r\nz\r\n\" id=\"ArialMT-117\"/>\r\n    </defs>\r\n    <g style=\"fill:#bbbbbb;\" transform=\"translate(154.597844 24.37875)scale(0.24 -0.24)\">\r\n     <use xlink:href=\"#ArialMT-80\"/>\r\n     <use x=\"66.699219\" xlink:href=\"#ArialMT-82\"/>\r\n     <use x=\"138.916016\" xlink:href=\"#ArialMT-32\"/>\r\n     <use x=\"166.699219\" xlink:href=\"#ArialMT-83\"/>\r\n     <use x=\"233.398438\" xlink:href=\"#ArialMT-116\"/>\r\n     <use x=\"261.181641\" xlink:href=\"#ArialMT-97\"/>\r\n     <use x=\"316.796875\" xlink:href=\"#ArialMT-116\"/>\r\n     <use x=\"344.580078\" xlink:href=\"#ArialMT-117\"/>\r\n     <use x=\"400.195312\" xlink:href=\"#ArialMT-115\"/>\r\n    </g>\r\n   </g>\r\n  </g>\r\n </g>\r\n <defs>\r\n  <clipPath id=\"p46476fbfb9\">\r\n   <rect height=\"380.52\" width=\"334.8\" x=\"41.220344\" y=\"30.37875\"/>\r\n  </clipPath>\r\n </defs>\r\n</svg>\r\n",
      "image/png": "[encoded data removed]"
     },
     "metadata": {}
    }
   ],
   "metadata": {}
  },
  {
   "cell_type": "markdown",
   "source": [
    "##  Function to get all the names of the contributors by removing all the duplicate values\r\n"
   ],
   "metadata": {}
  },
  {
   "cell_type": "code",
   "execution_count": null,
   "source": [
    "#This function gets all the names of the contributors by removing all the duplicate values\r\n",
    "def pr_contributors_list(lst):\r\n",
    "    \"\"\"\r\n",
    "    Returns unique contributors list.\r\n",
    "\r\n",
    "    Parameters: \r\n",
    "        list (list)\r\n",
    "\r\n",
    "    Returns:\r\n",
    "        list (list): returning value\r\n",
    "\r\n",
    "    \"\"\"\r\n",
    "    pr_contributors_unique=[]\r\n",
    "    for x in lst:\r\n",
    "        for y in x:\r\n",
    "            if y not in pr_contributors_unique:\r\n",
    "                pr_contributors_unique.append(y)\r\n",
    "    return pr_contributors_unique\r\n",
    "            \r\n",
    "pr_contributors_unique=pr_contributors_list(pr_contributors)\r\n",
    "print(pr_contributors_unique)"
   ],
   "outputs": [
    {
     "output_type": "stream",
     "name": "stdout",
     "text": [
      "['whyadiwhy', 'HarshCasper', 'HeyAnirudh', 'kskrao219', 'Amankesarwani2202', 'Umesh-01', 'Sukriti-sood', 'rutujaingole', 'realhunter7869', 'AliHaider20', 'cclauss', 'YashKandalkar', 'RohiniRG', 'kookee1226', 'iamakkkhil', 'Cosine42', 'sumitgsh', 'kadatatlukishore', 'vybhav72954', 'CYB3R-G0D', 'SuryanshNaugraiya', 'raghavraj-27', 'YASHIKA791', 'tanvi355', 'Kumaravinash9', 'Pradhuman-singh5', 'shantamsultania', 'thegautamkumarjaiswal', 'Suryadipsinh', 'jayant766', 'venkateshpensalwar', 'prathimacode-hub', 'A-kriti', 'harshita2319', 'N-Shar-ma', 'sohamsshah', 'soumik2012', 'tanishq-arya', 'Manasi2001', 'jhamadhav', 'Yuvraj-kadale', 'fossabot', 'XZANATOL', 'anuragmukherjee2001', 'neha07kumari', 'ShubhamGupta577', 'sayantani11', 'devRawnie', 'Jaideep07', 'VanTekken', 'RJ535315', 'NovusEdge', 'rahulraikwar00', 'Naman-1234', 'get-satyam', 'sourabhkumar45', 'piall', 'manas221', 'Dhanush2612', 'anubhav201241', 'aaadddiii', 'pganguli', 'kshittijagrawal', 'DiegoCaraballo', 'BJSwaroop', 'Pretty-19', 'Aayush-hub', 'Debashish-hub', 'Ayushjain2205', 'seema1711', 'SmritiAgrawal04', 'deepthiteki', 'Siddhant-K-code', 'priyanshu20', 'sakar97', 'SSHREYA71', 'Subhangini', 'Priya730', 'aish2002', 'ElMarchk0', 'pi-squared-4', 'haripriya9647', 'Ayush7614', 'saaalik', 'iamayushdas', 'himanshu007-creator', 'avinal', 'KamalDGRT', 'CharvyJain', 'Blastoise', 'pritamp17', 'pankaj892', 'temitayopelumi', 'imakash3011', 'djm-1', 'shiveshchoudhary', 'hr1shu', 'ghostmk', 'abdallah1097', 'Vishal-raj-1', 'pradyyadav', 'agrima84', 'Prathyusha-Guduru', 'Ash515', 'Pranav016', 'Tejas1510', 'alazar-w', 'Pradhansuman3112', 'CSY54', 'GoswamiTushar', 'KmrAnish04', 'ImgBotApp', 'meetvansjaliya', 'dhausser', 'ShivaySabharwal', 'Anees-baig', 'yerramsettysaimeghana', 'theSatvik', 'AChakraborty13', 'HeisenBug-07', 'SANKET7738', 'KGX10', 'tej5169', 'sujoypal51', 'dcorriveau', 'HariAcidReign', 'keshavnath', 'DevChoganwala', 'KhushalPShah', 'namanshah01', 'Keshav04042001', 'srimani-programmer', 'ShamserulAwsGeek', 'frbimo', 'twozero88', 'vighneshdeepweb', 'sooryaprakash31', 'rohankumawat', 'snlagr', 'gupta-piyush19', 'eeshashetty', 'vvHacker007', 'KILR007', 'hardword', 'howardshin1', 'sameersrivastava13', 'rutujadhanawade', 'simarpreetsingh-019', 'kritikaparmar-programmer', 'kaustubhgupta', 'eternal-dreamer', 'AdityaJ7', 'mandirarama', 'narayan2111', 'AkM-2018', 'sharur7', 'amandp13', 'basketcase03', 'afrozchakure', 'Namyalg', 'tejan-singh', 'AdityaAshvin', 'avinashkranjan', 'Anushka-S10', 'HeroicHitesh', 'Prahitha', 'Puneet-Pal-Singh', 'aastha985', 'bagofcodes', 'mbcse', 'avishmehta68710', 'Gaushikmr', 'jivthesh', 'mohitacecode', 'Sanketwable', 'azhanali', 'kushal98', 'AnkitaxPriya', 'deepraj1729', 'WinterSoldier13', 'rohitmadrileno15', 'sanket143']\n"
     ]
    }
   ],
   "metadata": {}
  },
  {
   "cell_type": "markdown",
   "source": [
    "## Fetching Total number of contributions done by the contributors into a JSON file"
   ],
   "metadata": {}
  },
  {
   "cell_type": "code",
   "execution_count": null,
   "source": [
    "#function to store contributors data into a json file.\r\n",
    "def contributors_to_json(pr_contributors,pr_contributors_unique):\r\n",
    "    \"\"\"\r\n",
    "    Dumps unique contributors and their total number\r\n",
    "    of contributions into a JSON file.\r\n",
    "\r\n",
    "    Parameters:\r\n",
    "        pr_contributors (list):\r\n",
    "        pr_contributors_unique():\r\n",
    "\r\n",
    "    Returns:\r\n",
    "        A JSON file to the current directory.\r\n",
    "    \r\n",
    "    \"\"\"\r\n",
    "    print(\"Creating JSON file...\")\r\n",
    "    pr_contributions={}\r\n",
    "    for j in enumerate(pr_contributors_unique):\r\n",
    "        SUM=0\r\n",
    "        for i in enumerate(pr_contributors):\r\n",
    "            count=pr_contributors[i].count(pr_contributors_unique[j])\r\n",
    "            SUM+=count\r\n",
    "        #print(\"{}: {}\".format(pr_contributors_unique[j],sum))\r\n",
    "        pr_contributions[pr_contributors_unique[j]]=sum\r\n",
    "    \r\n",
    "    with open('Contributors data.json','w') as fp:\r\n",
    "        json.dump(pr_contributions,fp)\r\n",
    "    \r\n",
    "    print(\"JSON File Created.\")\r\n",
    "\r\n",
    "contributors_to_json(pr_contributors,pr_contributors_unique)"
   ],
   "outputs": [
    {
     "output_type": "stream",
     "name": "stdout",
     "text": [
      "Creating JSON file...\n",
      "JSON File Created.\n"
     ]
    }
   ],
   "metadata": {}
  },
  {
   "cell_type": "markdown",
   "source": [
    "# Loading JSON file which contains\r\n",
    "* ## Contributors \r\n",
    "* ## Total number of contributions to Rotten Scripts repo "
   ],
   "metadata": {}
  },
  {
   "cell_type": "code",
   "execution_count": null,
   "source": [
    "#load data from json\r\n",
    "def total_contributions_count():\r\n",
    "    import json\r\n",
    "    with open('Contributors data.json') as fp:\r\n",
    "        info=json.load(fp)\r\n",
    "    return info\r\n",
    "\r\n",
    "info=total_contributions_count()\r\n",
    "# from collections import OrderedDict\r\n",
    "# info=OrderedDict(sorted(info.items()))\r\n"
   ],
   "outputs": [],
   "metadata": {}
  },
  {
   "cell_type": "markdown",
   "source": [
    "# Top 5 Contributors"
   ],
   "metadata": {}
  },
  {
   "cell_type": "code",
   "execution_count": null,
   "source": [
    "#plot to show top 5 contributors\r\n",
    "colors=['green','r','b','purple','y',]\r\n",
    "contributors=list(info.keys())\r\n",
    "count=list(info.values())\r\n",
    "plt.barh(\r\n",
    "    contributors[-5:],\r\n",
    "    count[-5:],\r\n",
    "    color=colors,\r\n",
    "    zorder=2\r\n",
    ")\r\n",
    "plt.title(\"Top 5 Contributors\",fontsize=25)\r\n",
    "plt.xlabel(\"Count\")\r\n",
    "plt.ylabel(\"Contributors\")\r\n",
    "plt.grid(zorder=1)\r\n",
    "for index, value in enumerate(count[-5:]):\r\n",
    "    plt.text(value, index,\r\n",
    "             str(value))\r\n",
    "plt.show()"
   ],
   "outputs": [
    {
     "output_type": "display_data",
     "data": {
      "text/plain": [
       "<Figure size 576x504 with 1 Axes>"
      ],
      "image/svg+xml": "<?xml version=\"1.0\" encoding=\"utf-8\" standalone=\"no\"?>\r\n<!DOCTYPE svg PUBLIC \"-//W3C//DTD SVG 1.1//EN\"\r\n  \"http://www.w3.org/Graphics/SVG/1.1/DTD/svg11.dtd\">\r\n<!-- Created with matplotlib (https://matplotlib.org/) -->\r\n<svg height=\"460.811562pt\" version=\"1.1\" viewBox=\"0 0 566.68767 460.811562\" width=\"566.68767pt\" xmlns=\"http://www.w3.org/2000/svg\" xmlns:xlink=\"http://www.w3.org/1999/xlink\">\r\n <defs>\r\n  <style type=\"text/css\">\r\n*{stroke-linecap:butt;stroke-linejoin:round;}\r\n  </style>\r\n </defs>\r\n <g id=\"figure_1\">\r\n  <g id=\"patch_1\">\r\n   <path d=\"M 0 460.811562 \r\nL 566.68767 460.811562 \r\nL 566.68767 0 \r\nL 0 0 \r\nz\r\n\" style=\"fill:#232323;\"/>\r\n  </g>\r\n  <g id=\"axes_1\">\r\n   <g id=\"patch_2\">\r\n    <path d=\"M 112.3235 411.919219 \r\nL 558.7235 411.919219 \r\nL 558.7235 31.399219 \r\nL 112.3235 31.399219 \r\nz\r\n\" style=\"fill:#232323;\"/>\r\n   </g>\r\n   <g id=\"matplotlib.axis_1\">\r\n    <g id=\"xtick_1\">\r\n     <g id=\"line2d_1\">\r\n      <path clip-path=\"url(#pf898b950f6)\" d=\"M 112.3235 411.919219 \r\nL 112.3235 31.399219 \r\n\" style=\"fill:none;stroke:#303030;stroke-linecap:square;stroke-width:1.4;\"/>\r\n     </g>\r\n     <g id=\"line2d_2\">\r\n      <defs>\r\n       <path d=\"M 0 0 \r\nL 0 6 \r\n\" id=\"m8348e7810d\" style=\"stroke:#bbbbbb;\"/>\r\n      </defs>\r\n      <g>\r\n       <use style=\"fill:#bbbbbb;stroke:#bbbbbb;\" x=\"112.3235\" xlink:href=\"#m8348e7810d\" y=\"411.919219\"/>\r\n      </g>\r\n     </g>\r\n     <g id=\"text_1\">\r\n      <!-- 0 -->\r\n      <defs>\r\n       <path d=\"M 4.15625 35.296875 \r\nQ 4.15625 48 6.765625 55.734375 \r\nQ 9.375 63.484375 14.515625 67.671875 \r\nQ 19.671875 71.875 27.484375 71.875 \r\nQ 33.25 71.875 37.59375 69.546875 \r\nQ 41.9375 67.234375 44.765625 62.859375 \r\nQ 47.609375 58.5 49.21875 52.21875 \r\nQ 50.828125 45.953125 50.828125 35.296875 \r\nQ 50.828125 22.703125 48.234375 14.96875 \r\nQ 45.65625 7.234375 40.5 3 \r\nQ 35.359375 -1.21875 27.484375 -1.21875 \r\nQ 17.140625 -1.21875 11.234375 6.203125 \r\nQ 4.15625 15.140625 4.15625 35.296875 \r\nz\r\nM 13.1875 35.296875 \r\nQ 13.1875 17.671875 17.3125 11.828125 \r\nQ 21.4375 6 27.484375 6 \r\nQ 33.546875 6 37.671875 11.859375 \r\nQ 41.796875 17.71875 41.796875 35.296875 \r\nQ 41.796875 52.984375 37.671875 58.78125 \r\nQ 33.546875 64.59375 27.390625 64.59375 \r\nQ 21.34375 64.59375 17.71875 59.46875 \r\nQ 13.1875 52.9375 13.1875 35.296875 \r\nz\r\n\" id=\"ArialMT-48\"/>\r\n      </defs>\r\n      <g style=\"fill:#bbbbbb;\" transform=\"translate(108.820109 433.938063)scale(0.126 -0.126)\">\r\n       <use xlink:href=\"#ArialMT-48\"/>\r\n      </g>\r\n     </g>\r\n    </g>\r\n    <g id=\"xtick_2\">\r\n     <g id=\"line2d_3\">\r\n      <path clip-path=\"url(#pf898b950f6)\" d=\"M 210.282684 411.919219 \r\nL 210.282684 31.399219 \r\n\" style=\"fill:none;stroke:#303030;stroke-linecap:square;stroke-width:1.4;\"/>\r\n     </g>\r\n     <g id=\"line2d_4\">\r\n      <g>\r\n       <use style=\"fill:#bbbbbb;stroke:#bbbbbb;\" x=\"210.282684\" xlink:href=\"#m8348e7810d\" y=\"411.919219\"/>\r\n      </g>\r\n     </g>\r\n     <g id=\"text_2\">\r\n      <!-- 100 -->\r\n      <defs>\r\n       <path d=\"M 37.25 0 \r\nL 28.46875 0 \r\nL 28.46875 56 \r\nQ 25.296875 52.984375 20.140625 49.953125 \r\nQ 14.984375 46.921875 10.890625 45.40625 \r\nL 10.890625 53.90625 \r\nQ 18.265625 57.375 23.78125 62.296875 \r\nQ 29.296875 67.234375 31.59375 71.875 \r\nL 37.25 71.875 \r\nz\r\n\" id=\"ArialMT-49\"/>\r\n      </defs>\r\n      <g style=\"fill:#bbbbbb;\" transform=\"translate(199.772512 433.938063)scale(0.126 -0.126)\">\r\n       <use xlink:href=\"#ArialMT-49\"/>\r\n       <use x=\"55.615234\" xlink:href=\"#ArialMT-48\"/>\r\n       <use x=\"111.230469\" xlink:href=\"#ArialMT-48\"/>\r\n      </g>\r\n     </g>\r\n    </g>\r\n    <g id=\"xtick_3\">\r\n     <g id=\"line2d_5\">\r\n      <path clip-path=\"url(#pf898b950f6)\" d=\"M 308.241867 411.919219 \r\nL 308.241867 31.399219 \r\n\" style=\"fill:none;stroke:#303030;stroke-linecap:square;stroke-width:1.4;\"/>\r\n     </g>\r\n     <g id=\"line2d_6\">\r\n      <g>\r\n       <use style=\"fill:#bbbbbb;stroke:#bbbbbb;\" x=\"308.241867\" xlink:href=\"#m8348e7810d\" y=\"411.919219\"/>\r\n      </g>\r\n     </g>\r\n     <g id=\"text_3\">\r\n      <!-- 200 -->\r\n      <defs>\r\n       <path d=\"M 50.34375 8.453125 \r\nL 50.34375 0 \r\nL 3.03125 0 \r\nQ 2.9375 3.171875 4.046875 6.109375 \r\nQ 5.859375 10.9375 9.828125 15.625 \r\nQ 13.8125 20.3125 21.34375 26.46875 \r\nQ 33.015625 36.03125 37.109375 41.625 \r\nQ 41.21875 47.21875 41.21875 52.203125 \r\nQ 41.21875 57.421875 37.46875 61 \r\nQ 33.734375 64.59375 27.734375 64.59375 \r\nQ 21.390625 64.59375 17.578125 60.78125 \r\nQ 13.765625 56.984375 13.71875 50.25 \r\nL 4.6875 51.171875 \r\nQ 5.609375 61.28125 11.65625 66.578125 \r\nQ 17.71875 71.875 27.9375 71.875 \r\nQ 38.234375 71.875 44.234375 66.15625 \r\nQ 50.25 60.453125 50.25 52 \r\nQ 50.25 47.703125 48.484375 43.546875 \r\nQ 46.734375 39.40625 42.65625 34.8125 \r\nQ 38.578125 30.21875 29.109375 22.21875 \r\nQ 21.1875 15.578125 18.9375 13.203125 \r\nQ 16.703125 10.84375 15.234375 8.453125 \r\nz\r\n\" id=\"ArialMT-50\"/>\r\n      </defs>\r\n      <g style=\"fill:#bbbbbb;\" transform=\"translate(297.731695 433.938063)scale(0.126 -0.126)\">\r\n       <use xlink:href=\"#ArialMT-50\"/>\r\n       <use x=\"55.615234\" xlink:href=\"#ArialMT-48\"/>\r\n       <use x=\"111.230469\" xlink:href=\"#ArialMT-48\"/>\r\n      </g>\r\n     </g>\r\n    </g>\r\n    <g id=\"xtick_4\">\r\n     <g id=\"line2d_7\">\r\n      <path clip-path=\"url(#pf898b950f6)\" d=\"M 406.201051 411.919219 \r\nL 406.201051 31.399219 \r\n\" style=\"fill:none;stroke:#303030;stroke-linecap:square;stroke-width:1.4;\"/>\r\n     </g>\r\n     <g id=\"line2d_8\">\r\n      <g>\r\n       <use style=\"fill:#bbbbbb;stroke:#bbbbbb;\" x=\"406.201051\" xlink:href=\"#m8348e7810d\" y=\"411.919219\"/>\r\n      </g>\r\n     </g>\r\n     <g id=\"text_4\">\r\n      <!-- 300 -->\r\n      <defs>\r\n       <path d=\"M 4.203125 18.890625 \r\nL 12.984375 20.0625 \r\nQ 14.5 12.59375 18.140625 9.296875 \r\nQ 21.78125 6 27 6 \r\nQ 33.203125 6 37.46875 10.296875 \r\nQ 41.75 14.59375 41.75 20.953125 \r\nQ 41.75 27 37.796875 30.921875 \r\nQ 33.84375 34.859375 27.734375 34.859375 \r\nQ 25.25 34.859375 21.53125 33.890625 \r\nL 22.515625 41.609375 \r\nQ 23.390625 41.5 23.921875 41.5 \r\nQ 29.546875 41.5 34.03125 44.421875 \r\nQ 38.53125 47.359375 38.53125 53.46875 \r\nQ 38.53125 58.296875 35.25 61.46875 \r\nQ 31.984375 64.65625 26.8125 64.65625 \r\nQ 21.6875 64.65625 18.265625 61.421875 \r\nQ 14.84375 58.203125 13.875 51.765625 \r\nL 5.078125 53.328125 \r\nQ 6.6875 62.15625 12.390625 67.015625 \r\nQ 18.109375 71.875 26.609375 71.875 \r\nQ 32.46875 71.875 37.390625 69.359375 \r\nQ 42.328125 66.84375 44.9375 62.5 \r\nQ 47.5625 58.15625 47.5625 53.265625 \r\nQ 47.5625 48.640625 45.0625 44.828125 \r\nQ 42.578125 41.015625 37.703125 38.765625 \r\nQ 44.046875 37.3125 47.5625 32.6875 \r\nQ 51.078125 28.078125 51.078125 21.140625 \r\nQ 51.078125 11.765625 44.234375 5.25 \r\nQ 37.40625 -1.265625 26.953125 -1.265625 \r\nQ 17.53125 -1.265625 11.296875 4.34375 \r\nQ 5.078125 9.96875 4.203125 18.890625 \r\nz\r\n\" id=\"ArialMT-51\"/>\r\n      </defs>\r\n      <g style=\"fill:#bbbbbb;\" transform=\"translate(395.690879 433.938063)scale(0.126 -0.126)\">\r\n       <use xlink:href=\"#ArialMT-51\"/>\r\n       <use x=\"55.615234\" xlink:href=\"#ArialMT-48\"/>\r\n       <use x=\"111.230469\" xlink:href=\"#ArialMT-48\"/>\r\n      </g>\r\n     </g>\r\n    </g>\r\n    <g id=\"xtick_5\">\r\n     <g id=\"line2d_9\">\r\n      <path clip-path=\"url(#pf898b950f6)\" d=\"M 504.160235 411.919219 \r\nL 504.160235 31.399219 \r\n\" style=\"fill:none;stroke:#303030;stroke-linecap:square;stroke-width:1.4;\"/>\r\n     </g>\r\n     <g id=\"line2d_10\">\r\n      <g>\r\n       <use style=\"fill:#bbbbbb;stroke:#bbbbbb;\" x=\"504.160235\" xlink:href=\"#m8348e7810d\" y=\"411.919219\"/>\r\n      </g>\r\n     </g>\r\n     <g id=\"text_5\">\r\n      <!-- 400 -->\r\n      <defs>\r\n       <path d=\"M 32.328125 0 \r\nL 32.328125 17.140625 \r\nL 1.265625 17.140625 \r\nL 1.265625 25.203125 \r\nL 33.9375 71.578125 \r\nL 41.109375 71.578125 \r\nL 41.109375 25.203125 \r\nL 50.78125 25.203125 \r\nL 50.78125 17.140625 \r\nL 41.109375 17.140625 \r\nL 41.109375 0 \r\nz\r\nM 32.328125 25.203125 \r\nL 32.328125 57.46875 \r\nL 9.90625 25.203125 \r\nz\r\n\" id=\"ArialMT-52\"/>\r\n      </defs>\r\n      <g style=\"fill:#bbbbbb;\" transform=\"translate(493.650063 433.938063)scale(0.126 -0.126)\">\r\n       <use xlink:href=\"#ArialMT-52\"/>\r\n       <use x=\"55.615234\" xlink:href=\"#ArialMT-48\"/>\r\n       <use x=\"111.230469\" xlink:href=\"#ArialMT-48\"/>\r\n      </g>\r\n     </g>\r\n    </g>\r\n    <g id=\"text_6\">\r\n     <!-- Count -->\r\n     <defs>\r\n      <path d=\"M 58.796875 25.09375 \r\nL 68.265625 22.703125 \r\nQ 65.28125 11.03125 57.546875 4.90625 \r\nQ 49.8125 -1.21875 38.625 -1.21875 \r\nQ 27.046875 -1.21875 19.796875 3.484375 \r\nQ 12.546875 8.203125 8.765625 17.140625 \r\nQ 4.984375 26.078125 4.984375 36.328125 \r\nQ 4.984375 47.515625 9.25 55.828125 \r\nQ 13.53125 64.15625 21.40625 68.46875 \r\nQ 29.296875 72.796875 38.765625 72.796875 \r\nQ 49.515625 72.796875 56.828125 67.328125 \r\nQ 64.15625 61.859375 67.046875 51.953125 \r\nL 57.71875 49.75 \r\nQ 55.21875 57.5625 50.484375 61.125 \r\nQ 45.75 64.703125 38.578125 64.703125 \r\nQ 30.328125 64.703125 24.78125 60.734375 \r\nQ 19.234375 56.78125 16.984375 50.109375 \r\nQ 14.75 43.453125 14.75 36.375 \r\nQ 14.75 27.25 17.40625 20.4375 \r\nQ 20.0625 13.625 25.671875 10.25 \r\nQ 31.296875 6.890625 37.84375 6.890625 \r\nQ 45.796875 6.890625 51.3125 11.46875 \r\nQ 56.84375 16.0625 58.796875 25.09375 \r\nz\r\n\" id=\"ArialMT-67\"/>\r\n      <path d=\"M 3.328125 25.921875 \r\nQ 3.328125 40.328125 11.328125 47.265625 \r\nQ 18.015625 53.03125 27.640625 53.03125 \r\nQ 38.328125 53.03125 45.109375 46.015625 \r\nQ 51.90625 39.015625 51.90625 26.65625 \r\nQ 51.90625 16.65625 48.90625 10.90625 \r\nQ 45.90625 5.171875 40.15625 2 \r\nQ 34.421875 -1.171875 27.640625 -1.171875 \r\nQ 16.75 -1.171875 10.03125 5.8125 \r\nQ 3.328125 12.796875 3.328125 25.921875 \r\nz\r\nM 12.359375 25.921875 \r\nQ 12.359375 15.96875 16.703125 11.015625 \r\nQ 21.046875 6.0625 27.640625 6.0625 \r\nQ 34.1875 6.0625 38.53125 11.03125 \r\nQ 42.875 16.015625 42.875 26.21875 \r\nQ 42.875 35.84375 38.5 40.796875 \r\nQ 34.125 45.75 27.640625 45.75 \r\nQ 21.046875 45.75 16.703125 40.8125 \r\nQ 12.359375 35.890625 12.359375 25.921875 \r\nz\r\n\" id=\"ArialMT-111\"/>\r\n      <path d=\"M 40.578125 0 \r\nL 40.578125 7.625 \r\nQ 34.515625 -1.171875 24.125 -1.171875 \r\nQ 19.53125 -1.171875 15.546875 0.578125 \r\nQ 11.578125 2.34375 9.640625 5 \r\nQ 7.71875 7.671875 6.9375 11.53125 \r\nQ 6.390625 14.109375 6.390625 19.734375 \r\nL 6.390625 51.859375 \r\nL 15.1875 51.859375 \r\nL 15.1875 23.09375 \r\nQ 15.1875 16.21875 15.71875 13.8125 \r\nQ 16.546875 10.359375 19.234375 8.375 \r\nQ 21.921875 6.390625 25.875 6.390625 \r\nQ 29.828125 6.390625 33.296875 8.421875 \r\nQ 36.765625 10.453125 38.203125 13.9375 \r\nQ 39.65625 17.4375 39.65625 24.078125 \r\nL 39.65625 51.859375 \r\nL 48.4375 51.859375 \r\nL 48.4375 0 \r\nz\r\n\" id=\"ArialMT-117\"/>\r\n      <path d=\"M 6.59375 0 \r\nL 6.59375 51.859375 \r\nL 14.5 51.859375 \r\nL 14.5 44.484375 \r\nQ 20.21875 53.03125 31 53.03125 \r\nQ 35.6875 53.03125 39.625 51.34375 \r\nQ 43.5625 49.65625 45.515625 46.921875 \r\nQ 47.46875 44.1875 48.25 40.4375 \r\nQ 48.734375 37.984375 48.734375 31.890625 \r\nL 48.734375 0 \r\nL 39.9375 0 \r\nL 39.9375 31.546875 \r\nQ 39.9375 36.921875 38.90625 39.578125 \r\nQ 37.890625 42.234375 35.28125 43.8125 \r\nQ 32.671875 45.40625 29.15625 45.40625 \r\nQ 23.53125 45.40625 19.453125 41.84375 \r\nQ 15.375 38.28125 15.375 28.328125 \r\nL 15.375 0 \r\nz\r\n\" id=\"ArialMT-110\"/>\r\n      <path d=\"M 25.78125 7.859375 \r\nL 27.046875 0.09375 \r\nQ 23.34375 -0.6875 20.40625 -0.6875 \r\nQ 15.625 -0.6875 12.984375 0.828125 \r\nQ 10.359375 2.34375 9.28125 4.8125 \r\nQ 8.203125 7.28125 8.203125 15.1875 \r\nL 8.203125 45.015625 \r\nL 1.765625 45.015625 \r\nL 1.765625 51.859375 \r\nL 8.203125 51.859375 \r\nL 8.203125 64.703125 \r\nL 16.9375 69.96875 \r\nL 16.9375 51.859375 \r\nL 25.78125 51.859375 \r\nL 25.78125 45.015625 \r\nL 16.9375 45.015625 \r\nL 16.9375 14.703125 \r\nQ 16.9375 10.9375 17.40625 9.859375 \r\nQ 17.875 8.796875 18.921875 8.15625 \r\nQ 19.96875 7.515625 21.921875 7.515625 \r\nQ 23.390625 7.515625 25.78125 7.859375 \r\nz\r\n\" id=\"ArialMT-116\"/>\r\n     </defs>\r\n     <g style=\"fill:#bbbbbb;\" transform=\"translate(316.311875 450.749562)scale(0.144 -0.144)\">\r\n      <use xlink:href=\"#ArialMT-67\"/>\r\n      <use x=\"72.216797\" xlink:href=\"#ArialMT-111\"/>\r\n      <use x=\"127.832031\" xlink:href=\"#ArialMT-117\"/>\r\n      <use x=\"183.447266\" xlink:href=\"#ArialMT-110\"/>\r\n      <use x=\"239.0625\" xlink:href=\"#ArialMT-116\"/>\r\n     </g>\r\n    </g>\r\n   </g>\r\n   <g id=\"matplotlib.axis_2\">\r\n    <g id=\"ytick_1\">\r\n     <g id=\"line2d_11\">\r\n      <path clip-path=\"url(#pf898b950f6)\" d=\"M 112.3235 365.795582 \r\nL 558.7235 365.795582 \r\n\" style=\"fill:none;stroke:#303030;stroke-linecap:square;stroke-width:1.4;\"/>\r\n     </g>\r\n     <g id=\"line2d_12\">\r\n      <defs>\r\n       <path d=\"M 0 0 \r\nL -6 0 \r\n\" id=\"m521d82f0f0\" style=\"stroke:#bbbbbb;\"/>\r\n      </defs>\r\n      <g>\r\n       <use style=\"fill:#bbbbbb;stroke:#bbbbbb;\" x=\"112.3235\" xlink:href=\"#m521d82f0f0\" y=\"365.795582\"/>\r\n      </g>\r\n     </g>\r\n     <g id=\"text_7\">\r\n      <!-- Namyalg -->\r\n      <defs>\r\n       <path d=\"M 7.625 0 \r\nL 7.625 71.578125 \r\nL 17.328125 71.578125 \r\nL 54.9375 15.375 \r\nL 54.9375 71.578125 \r\nL 64.015625 71.578125 \r\nL 64.015625 0 \r\nL 54.296875 0 \r\nL 16.703125 56.25 \r\nL 16.703125 0 \r\nz\r\n\" id=\"ArialMT-78\"/>\r\n       <path d=\"M 40.4375 6.390625 \r\nQ 35.546875 2.25 31.03125 0.53125 \r\nQ 26.515625 -1.171875 21.34375 -1.171875 \r\nQ 12.796875 -1.171875 8.203125 3 \r\nQ 3.609375 7.171875 3.609375 13.671875 \r\nQ 3.609375 17.484375 5.34375 20.625 \r\nQ 7.078125 23.78125 9.890625 25.6875 \r\nQ 12.703125 27.59375 16.21875 28.5625 \r\nQ 18.796875 29.25 24.03125 29.890625 \r\nQ 34.671875 31.15625 39.703125 32.90625 \r\nQ 39.75 34.71875 39.75 35.203125 \r\nQ 39.75 40.578125 37.25 42.78125 \r\nQ 33.890625 45.75 27.25 45.75 \r\nQ 21.046875 45.75 18.09375 43.578125 \r\nQ 15.140625 41.40625 13.71875 35.890625 \r\nL 5.125 37.0625 \r\nQ 6.296875 42.578125 8.984375 45.96875 \r\nQ 11.671875 49.359375 16.75 51.1875 \r\nQ 21.828125 53.03125 28.515625 53.03125 \r\nQ 35.15625 53.03125 39.296875 51.46875 \r\nQ 43.453125 49.90625 45.40625 47.53125 \r\nQ 47.359375 45.171875 48.140625 41.546875 \r\nQ 48.578125 39.3125 48.578125 33.453125 \r\nL 48.578125 21.734375 \r\nQ 48.578125 9.46875 49.140625 6.21875 \r\nQ 49.703125 2.984375 51.375 0 \r\nL 42.1875 0 \r\nQ 40.828125 2.734375 40.4375 6.390625 \r\nz\r\nM 39.703125 26.03125 \r\nQ 34.90625 24.078125 25.34375 22.703125 \r\nQ 19.921875 21.921875 17.671875 20.9375 \r\nQ 15.4375 19.96875 14.203125 18.09375 \r\nQ 12.984375 16.21875 12.984375 13.921875 \r\nQ 12.984375 10.40625 15.640625 8.0625 \r\nQ 18.3125 5.71875 23.4375 5.71875 \r\nQ 28.515625 5.71875 32.46875 7.9375 \r\nQ 36.421875 10.15625 38.28125 14.015625 \r\nQ 39.703125 17 39.703125 22.796875 \r\nz\r\n\" id=\"ArialMT-97\"/>\r\n       <path d=\"M 6.59375 0 \r\nL 6.59375 51.859375 \r\nL 14.453125 51.859375 \r\nL 14.453125 44.578125 \r\nQ 16.890625 48.390625 20.9375 50.703125 \r\nQ 25 53.03125 30.171875 53.03125 \r\nQ 35.9375 53.03125 39.625 50.640625 \r\nQ 43.3125 48.25 44.828125 43.953125 \r\nQ 50.984375 53.03125 60.84375 53.03125 \r\nQ 68.5625 53.03125 72.703125 48.75 \r\nQ 76.859375 44.484375 76.859375 35.59375 \r\nL 76.859375 0 \r\nL 68.109375 0 \r\nL 68.109375 32.671875 \r\nQ 68.109375 37.9375 67.25 40.25 \r\nQ 66.40625 42.578125 64.15625 43.984375 \r\nQ 61.921875 45.40625 58.890625 45.40625 \r\nQ 53.421875 45.40625 49.796875 41.765625 \r\nQ 46.1875 38.140625 46.1875 30.125 \r\nL 46.1875 0 \r\nL 37.40625 0 \r\nL 37.40625 33.6875 \r\nQ 37.40625 39.546875 35.25 42.46875 \r\nQ 33.109375 45.40625 28.21875 45.40625 \r\nQ 24.515625 45.40625 21.359375 43.453125 \r\nQ 18.21875 41.5 16.796875 37.734375 \r\nQ 15.375 33.984375 15.375 26.90625 \r\nL 15.375 0 \r\nz\r\n\" id=\"ArialMT-109\"/>\r\n       <path d=\"M 6.203125 -19.96875 \r\nL 5.21875 -11.71875 \r\nQ 8.109375 -12.5 10.25 -12.5 \r\nQ 13.1875 -12.5 14.9375 -11.515625 \r\nQ 16.703125 -10.546875 17.828125 -8.796875 \r\nQ 18.65625 -7.46875 20.515625 -2.25 \r\nQ 20.75 -1.515625 21.296875 -0.09375 \r\nL 1.609375 51.859375 \r\nL 11.078125 51.859375 \r\nL 21.875 21.828125 \r\nQ 23.96875 16.109375 25.640625 9.8125 \r\nQ 27.15625 15.875 29.25 21.625 \r\nL 40.328125 51.859375 \r\nL 49.125 51.859375 \r\nL 29.390625 -0.875 \r\nQ 26.21875 -9.421875 24.46875 -12.640625 \r\nQ 22.125 -17 19.09375 -19.015625 \r\nQ 16.0625 -21.046875 11.859375 -21.046875 \r\nQ 9.328125 -21.046875 6.203125 -19.96875 \r\nz\r\n\" id=\"ArialMT-121\"/>\r\n       <path d=\"M 6.390625 0 \r\nL 6.390625 71.578125 \r\nL 15.1875 71.578125 \r\nL 15.1875 0 \r\nz\r\n\" id=\"ArialMT-108\"/>\r\n       <path d=\"M 4.984375 -4.296875 \r\nL 13.53125 -5.5625 \r\nQ 14.0625 -9.515625 16.5 -11.328125 \r\nQ 19.78125 -13.765625 25.4375 -13.765625 \r\nQ 31.546875 -13.765625 34.859375 -11.328125 \r\nQ 38.1875 -8.890625 39.359375 -4.5 \r\nQ 40.046875 -1.8125 39.984375 6.78125 \r\nQ 34.234375 0 25.640625 0 \r\nQ 14.9375 0 9.078125 7.71875 \r\nQ 3.21875 15.4375 3.21875 26.21875 \r\nQ 3.21875 33.640625 5.90625 39.90625 \r\nQ 8.59375 46.1875 13.6875 49.609375 \r\nQ 18.796875 53.03125 25.6875 53.03125 \r\nQ 34.859375 53.03125 40.828125 45.609375 \r\nL 40.828125 51.859375 \r\nL 48.921875 51.859375 \r\nL 48.921875 7.03125 \r\nQ 48.921875 -5.078125 46.453125 -10.125 \r\nQ 44 -15.1875 38.640625 -18.109375 \r\nQ 33.296875 -21.046875 25.484375 -21.046875 \r\nQ 16.21875 -21.046875 10.5 -16.875 \r\nQ 4.78125 -12.703125 4.984375 -4.296875 \r\nz\r\nM 12.25 26.859375 \r\nQ 12.25 16.65625 16.296875 11.96875 \r\nQ 20.359375 7.28125 26.46875 7.28125 \r\nQ 32.515625 7.28125 36.609375 11.9375 \r\nQ 40.71875 16.609375 40.71875 26.5625 \r\nQ 40.71875 36.078125 36.5 40.90625 \r\nQ 32.28125 45.75 26.3125 45.75 \r\nQ 20.453125 45.75 16.34375 40.984375 \r\nQ 12.25 36.234375 12.25 26.859375 \r\nz\r\n\" id=\"ArialMT-103\"/>\r\n      </defs>\r\n      <g style=\"fill:#bbbbbb;\" transform=\"translate(49.608625 370.305004)scale(0.126 -0.126)\">\r\n       <use xlink:href=\"#ArialMT-78\"/>\r\n       <use x=\"72.216797\" xlink:href=\"#ArialMT-97\"/>\r\n       <use x=\"127.832031\" xlink:href=\"#ArialMT-109\"/>\r\n       <use x=\"211.132812\" xlink:href=\"#ArialMT-121\"/>\r\n       <use x=\"261.132812\" xlink:href=\"#ArialMT-97\"/>\r\n       <use x=\"316.748047\" xlink:href=\"#ArialMT-108\"/>\r\n       <use x=\"338.964844\" xlink:href=\"#ArialMT-103\"/>\r\n      </g>\r\n     </g>\r\n    </g>\r\n    <g id=\"ytick_2\">\r\n     <g id=\"line2d_13\">\r\n      <path clip-path=\"url(#pf898b950f6)\" d=\"M 112.3235 293.727401 \r\nL 558.7235 293.727401 \r\n\" style=\"fill:none;stroke:#303030;stroke-linecap:square;stroke-width:1.4;\"/>\r\n     </g>\r\n     <g id=\"line2d_14\">\r\n      <g>\r\n       <use style=\"fill:#bbbbbb;stroke:#bbbbbb;\" x=\"112.3235\" xlink:href=\"#m521d82f0f0\" y=\"293.727401\"/>\r\n      </g>\r\n     </g>\r\n     <g id=\"text_8\">\r\n      <!-- sohamsshah -->\r\n      <defs>\r\n       <path d=\"M 3.078125 15.484375 \r\nL 11.765625 16.84375 \r\nQ 12.5 11.625 15.84375 8.84375 \r\nQ 19.1875 6.0625 25.203125 6.0625 \r\nQ 31.25 6.0625 34.171875 8.515625 \r\nQ 37.109375 10.984375 37.109375 14.3125 \r\nQ 37.109375 17.28125 34.515625 19 \r\nQ 32.71875 20.171875 25.53125 21.96875 \r\nQ 15.875 24.421875 12.140625 26.203125 \r\nQ 8.40625 27.984375 6.46875 31.125 \r\nQ 4.546875 34.28125 4.546875 38.09375 \r\nQ 4.546875 41.546875 6.125 44.5 \r\nQ 7.71875 47.46875 10.453125 49.421875 \r\nQ 12.5 50.921875 16.03125 51.96875 \r\nQ 19.578125 53.03125 23.640625 53.03125 \r\nQ 29.734375 53.03125 34.34375 51.265625 \r\nQ 38.96875 49.515625 41.15625 46.5 \r\nQ 43.359375 43.5 44.1875 38.484375 \r\nL 35.59375 37.3125 \r\nQ 35.015625 41.3125 32.203125 43.546875 \r\nQ 29.390625 45.796875 24.265625 45.796875 \r\nQ 18.21875 45.796875 15.625 43.796875 \r\nQ 13.03125 41.796875 13.03125 39.109375 \r\nQ 13.03125 37.40625 14.109375 36.03125 \r\nQ 15.1875 34.625 17.484375 33.6875 \r\nQ 18.796875 33.203125 25.25 31.453125 \r\nQ 34.578125 28.953125 38.25 27.359375 \r\nQ 41.9375 25.78125 44.03125 22.75 \r\nQ 46.140625 19.734375 46.140625 15.234375 \r\nQ 46.140625 10.84375 43.578125 6.953125 \r\nQ 41.015625 3.078125 36.171875 0.953125 \r\nQ 31.34375 -1.171875 25.25 -1.171875 \r\nQ 15.140625 -1.171875 9.84375 3.03125 \r\nQ 4.546875 7.234375 3.078125 15.484375 \r\nz\r\n\" id=\"ArialMT-115\"/>\r\n       <path d=\"M 6.59375 0 \r\nL 6.59375 71.578125 \r\nL 15.375 71.578125 \r\nL 15.375 45.90625 \r\nQ 21.53125 53.03125 30.90625 53.03125 \r\nQ 36.671875 53.03125 40.921875 50.75 \r\nQ 45.171875 48.484375 47 44.484375 \r\nQ 48.828125 40.484375 48.828125 32.859375 \r\nL 48.828125 0 \r\nL 40.046875 0 \r\nL 40.046875 32.859375 \r\nQ 40.046875 39.453125 37.1875 42.453125 \r\nQ 34.328125 45.453125 29.109375 45.453125 \r\nQ 25.203125 45.453125 21.75 43.421875 \r\nQ 18.3125 41.40625 16.84375 37.9375 \r\nQ 15.375 34.46875 15.375 28.375 \r\nL 15.375 0 \r\nz\r\n\" id=\"ArialMT-104\"/>\r\n      </defs>\r\n      <g style=\"fill:#bbbbbb;\" transform=\"translate(27.887406 298.236822)scale(0.126 -0.126)\">\r\n       <use xlink:href=\"#ArialMT-115\"/>\r\n       <use x=\"50\" xlink:href=\"#ArialMT-111\"/>\r\n       <use x=\"105.615234\" xlink:href=\"#ArialMT-104\"/>\r\n       <use x=\"161.230469\" xlink:href=\"#ArialMT-97\"/>\r\n       <use x=\"216.845703\" xlink:href=\"#ArialMT-109\"/>\r\n       <use x=\"300.146484\" xlink:href=\"#ArialMT-115\"/>\r\n       <use x=\"350.146484\" xlink:href=\"#ArialMT-115\"/>\r\n       <use x=\"400.146484\" xlink:href=\"#ArialMT-104\"/>\r\n       <use x=\"455.761719\" xlink:href=\"#ArialMT-97\"/>\r\n       <use x=\"511.376953\" xlink:href=\"#ArialMT-104\"/>\r\n      </g>\r\n     </g>\r\n    </g>\r\n    <g id=\"ytick_3\">\r\n     <g id=\"line2d_15\">\r\n      <path clip-path=\"url(#pf898b950f6)\" d=\"M 112.3235 221.659219 \r\nL 558.7235 221.659219 \r\n\" style=\"fill:none;stroke:#303030;stroke-linecap:square;stroke-width:1.4;\"/>\r\n     </g>\r\n     <g id=\"line2d_16\">\r\n      <g>\r\n       <use style=\"fill:#bbbbbb;stroke:#bbbbbb;\" x=\"112.3235\" xlink:href=\"#m521d82f0f0\" y=\"221.659219\"/>\r\n      </g>\r\n     </g>\r\n     <g id=\"text_9\">\r\n      <!-- seema1711 -->\r\n      <defs>\r\n       <path d=\"M 42.09375 16.703125 \r\nL 51.171875 15.578125 \r\nQ 49.03125 7.625 43.21875 3.21875 \r\nQ 37.40625 -1.171875 28.375 -1.171875 \r\nQ 17 -1.171875 10.328125 5.828125 \r\nQ 3.65625 12.84375 3.65625 25.484375 \r\nQ 3.65625 38.578125 10.390625 45.796875 \r\nQ 17.140625 53.03125 27.875 53.03125 \r\nQ 38.28125 53.03125 44.875 45.953125 \r\nQ 51.46875 38.875 51.46875 26.03125 \r\nQ 51.46875 25.25 51.421875 23.6875 \r\nL 12.75 23.6875 \r\nQ 13.234375 15.140625 17.578125 10.59375 \r\nQ 21.921875 6.0625 28.421875 6.0625 \r\nQ 33.25 6.0625 36.671875 8.59375 \r\nQ 40.09375 11.140625 42.09375 16.703125 \r\nz\r\nM 13.234375 30.90625 \r\nL 42.1875 30.90625 \r\nQ 41.609375 37.453125 38.875 40.71875 \r\nQ 34.671875 45.796875 27.984375 45.796875 \r\nQ 21.921875 45.796875 17.796875 41.75 \r\nQ 13.671875 37.703125 13.234375 30.90625 \r\nz\r\n\" id=\"ArialMT-101\"/>\r\n       <path d=\"M 4.734375 62.203125 \r\nL 4.734375 70.65625 \r\nL 51.078125 70.65625 \r\nL 51.078125 63.8125 \r\nQ 44.234375 56.546875 37.515625 44.484375 \r\nQ 30.8125 32.421875 27.15625 19.671875 \r\nQ 24.515625 10.6875 23.78125 0 \r\nL 14.75 0 \r\nQ 14.890625 8.453125 18.0625 20.40625 \r\nQ 21.234375 32.375 27.171875 43.484375 \r\nQ 33.109375 54.59375 39.796875 62.203125 \r\nz\r\n\" id=\"ArialMT-55\"/>\r\n      </defs>\r\n      <g style=\"fill:#bbbbbb;\" transform=\"translate(34.409875 226.168641)scale(0.126 -0.126)\">\r\n       <use xlink:href=\"#ArialMT-115\"/>\r\n       <use x=\"50\" xlink:href=\"#ArialMT-101\"/>\r\n       <use x=\"105.615234\" xlink:href=\"#ArialMT-101\"/>\r\n       <use x=\"161.230469\" xlink:href=\"#ArialMT-109\"/>\r\n       <use x=\"244.53125\" xlink:href=\"#ArialMT-97\"/>\r\n       <use x=\"300.146484\" xlink:href=\"#ArialMT-49\"/>\r\n       <use x=\"355.761719\" xlink:href=\"#ArialMT-55\"/>\r\n       <use x=\"411.376953\" xlink:href=\"#ArialMT-49\"/>\r\n       <use x=\"459.617188\" xlink:href=\"#ArialMT-49\"/>\r\n      </g>\r\n     </g>\r\n    </g>\r\n    <g id=\"ytick_4\">\r\n     <g id=\"line2d_17\">\r\n      <path clip-path=\"url(#pf898b950f6)\" d=\"M 112.3235 149.591037 \r\nL 558.7235 149.591037 \r\n\" style=\"fill:none;stroke:#303030;stroke-linecap:square;stroke-width:1.4;\"/>\r\n     </g>\r\n     <g id=\"line2d_18\">\r\n      <g>\r\n       <use style=\"fill:#bbbbbb;stroke:#bbbbbb;\" x=\"112.3235\" xlink:href=\"#m521d82f0f0\" y=\"149.591037\"/>\r\n      </g>\r\n     </g>\r\n     <g id=\"text_10\">\r\n      <!-- vybhav72954 -->\r\n      <defs>\r\n       <path d=\"M 21 0 \r\nL 1.265625 51.859375 \r\nL 10.546875 51.859375 \r\nL 21.6875 20.796875 \r\nQ 23.484375 15.765625 25 10.359375 \r\nQ 26.171875 14.453125 28.265625 20.21875 \r\nL 39.796875 51.859375 \r\nL 48.828125 51.859375 \r\nL 29.203125 0 \r\nz\r\n\" id=\"ArialMT-118\"/>\r\n       <path d=\"M 14.703125 0 \r\nL 6.546875 0 \r\nL 6.546875 71.578125 \r\nL 15.328125 71.578125 \r\nL 15.328125 46.046875 \r\nQ 20.90625 53.03125 29.546875 53.03125 \r\nQ 34.328125 53.03125 38.59375 51.09375 \r\nQ 42.875 49.171875 45.625 45.671875 \r\nQ 48.390625 42.1875 49.953125 37.25 \r\nQ 51.515625 32.328125 51.515625 26.703125 \r\nQ 51.515625 13.375 44.921875 6.09375 \r\nQ 38.328125 -1.171875 29.109375 -1.171875 \r\nQ 19.921875 -1.171875 14.703125 6.5 \r\nz\r\nM 14.59375 26.3125 \r\nQ 14.59375 17 17.140625 12.84375 \r\nQ 21.296875 6.0625 28.375 6.0625 \r\nQ 34.125 6.0625 38.328125 11.0625 \r\nQ 42.53125 16.0625 42.53125 25.984375 \r\nQ 42.53125 36.140625 38.5 40.96875 \r\nQ 34.46875 45.796875 28.765625 45.796875 \r\nQ 23 45.796875 18.796875 40.796875 \r\nQ 14.59375 35.796875 14.59375 26.3125 \r\nz\r\n\" id=\"ArialMT-98\"/>\r\n       <path d=\"M 5.46875 16.546875 \r\nL 13.921875 17.328125 \r\nQ 14.984375 11.375 18.015625 8.6875 \r\nQ 21.046875 6 25.78125 6 \r\nQ 29.828125 6 32.875 7.859375 \r\nQ 35.9375 9.71875 37.890625 12.8125 \r\nQ 39.84375 15.921875 41.15625 21.1875 \r\nQ 42.484375 26.46875 42.484375 31.9375 \r\nQ 42.484375 32.515625 42.4375 33.6875 \r\nQ 39.796875 29.5 35.234375 26.875 \r\nQ 30.671875 24.265625 25.34375 24.265625 \r\nQ 16.453125 24.265625 10.296875 30.703125 \r\nQ 4.15625 37.15625 4.15625 47.703125 \r\nQ 4.15625 58.59375 10.578125 65.234375 \r\nQ 17 71.875 26.65625 71.875 \r\nQ 33.640625 71.875 39.421875 68.109375 \r\nQ 45.21875 64.359375 48.21875 57.390625 \r\nQ 51.21875 50.4375 51.21875 37.25 \r\nQ 51.21875 23.53125 48.234375 15.40625 \r\nQ 45.265625 7.28125 39.375 3.03125 \r\nQ 33.5 -1.21875 25.59375 -1.21875 \r\nQ 17.1875 -1.21875 11.859375 3.4375 \r\nQ 6.546875 8.109375 5.46875 16.546875 \r\nz\r\nM 41.453125 48.140625 \r\nQ 41.453125 55.71875 37.421875 60.15625 \r\nQ 33.40625 64.59375 27.734375 64.59375 \r\nQ 21.875 64.59375 17.53125 59.8125 \r\nQ 13.1875 55.03125 13.1875 47.40625 \r\nQ 13.1875 40.578125 17.3125 36.296875 \r\nQ 21.4375 32.03125 27.484375 32.03125 \r\nQ 33.59375 32.03125 37.515625 36.296875 \r\nQ 41.453125 40.578125 41.453125 48.140625 \r\nz\r\n\" id=\"ArialMT-57\"/>\r\n       <path d=\"M 4.15625 18.75 \r\nL 13.375 19.53125 \r\nQ 14.40625 12.796875 18.140625 9.390625 \r\nQ 21.875 6 27.15625 6 \r\nQ 33.5 6 37.890625 10.78125 \r\nQ 42.28125 15.578125 42.28125 23.484375 \r\nQ 42.28125 31 38.0625 35.34375 \r\nQ 33.84375 39.703125 27 39.703125 \r\nQ 22.75 39.703125 19.328125 37.765625 \r\nQ 15.921875 35.84375 13.96875 32.765625 \r\nL 5.71875 33.84375 \r\nL 12.640625 70.609375 \r\nL 48.25 70.609375 \r\nL 48.25 62.203125 \r\nL 19.671875 62.203125 \r\nL 15.828125 42.96875 \r\nQ 22.265625 47.46875 29.34375 47.46875 \r\nQ 38.71875 47.46875 45.15625 40.96875 \r\nQ 51.609375 34.46875 51.609375 24.265625 \r\nQ 51.609375 14.546875 45.953125 7.46875 \r\nQ 39.0625 -1.21875 27.15625 -1.21875 \r\nQ 17.390625 -1.21875 11.203125 4.25 \r\nQ 5.03125 9.71875 4.15625 18.75 \r\nz\r\n\" id=\"ArialMT-53\"/>\r\n      </defs>\r\n      <g style=\"fill:#bbbbbb;\" transform=\"translate(24.36925 154.119162)scale(0.126 -0.126)\">\r\n       <use xlink:href=\"#ArialMT-118\"/>\r\n       <use x=\"50\" xlink:href=\"#ArialMT-121\"/>\r\n       <use x=\"100\" xlink:href=\"#ArialMT-98\"/>\r\n       <use x=\"155.615234\" xlink:href=\"#ArialMT-104\"/>\r\n       <use x=\"211.230469\" xlink:href=\"#ArialMT-97\"/>\r\n       <use x=\"266.845703\" xlink:href=\"#ArialMT-118\"/>\r\n       <use x=\"316.845703\" xlink:href=\"#ArialMT-55\"/>\r\n       <use x=\"372.460938\" xlink:href=\"#ArialMT-50\"/>\r\n       <use x=\"428.076172\" xlink:href=\"#ArialMT-57\"/>\r\n       <use x=\"483.691406\" xlink:href=\"#ArialMT-53\"/>\r\n       <use x=\"539.306641\" xlink:href=\"#ArialMT-52\"/>\r\n      </g>\r\n     </g>\r\n    </g>\r\n    <g id=\"ytick_5\">\r\n     <g id=\"line2d_19\">\r\n      <path clip-path=\"url(#pf898b950f6)\" d=\"M 112.3235 77.522855 \r\nL 558.7235 77.522855 \r\n\" style=\"fill:none;stroke:#303030;stroke-linecap:square;stroke-width:1.4;\"/>\r\n     </g>\r\n     <g id=\"line2d_20\">\r\n      <g>\r\n       <use style=\"fill:#bbbbbb;stroke:#bbbbbb;\" x=\"112.3235\" xlink:href=\"#m521d82f0f0\" y=\"77.522855\"/>\r\n      </g>\r\n     </g>\r\n     <g id=\"text_11\">\r\n      <!-- HarshCasper -->\r\n      <defs>\r\n       <path d=\"M 8.015625 0 \r\nL 8.015625 71.578125 \r\nL 17.484375 71.578125 \r\nL 17.484375 42.1875 \r\nL 54.6875 42.1875 \r\nL 54.6875 71.578125 \r\nL 64.15625 71.578125 \r\nL 64.15625 0 \r\nL 54.6875 0 \r\nL 54.6875 33.734375 \r\nL 17.484375 33.734375 \r\nL 17.484375 0 \r\nz\r\n\" id=\"ArialMT-72\"/>\r\n       <path d=\"M 6.5 0 \r\nL 6.5 51.859375 \r\nL 14.40625 51.859375 \r\nL 14.40625 44 \r\nQ 17.4375 49.515625 20 51.265625 \r\nQ 22.5625 53.03125 25.640625 53.03125 \r\nQ 30.078125 53.03125 34.671875 50.203125 \r\nL 31.640625 42.046875 \r\nQ 28.421875 43.953125 25.203125 43.953125 \r\nQ 22.3125 43.953125 20.015625 42.21875 \r\nQ 17.71875 40.484375 16.75 37.40625 \r\nQ 15.28125 32.71875 15.28125 27.15625 \r\nL 15.28125 0 \r\nz\r\n\" id=\"ArialMT-114\"/>\r\n       <path d=\"M 6.59375 -19.875 \r\nL 6.59375 51.859375 \r\nL 14.59375 51.859375 \r\nL 14.59375 45.125 \r\nQ 17.4375 49.078125 21 51.046875 \r\nQ 24.5625 53.03125 29.640625 53.03125 \r\nQ 36.28125 53.03125 41.359375 49.609375 \r\nQ 46.4375 46.1875 49.015625 39.953125 \r\nQ 51.609375 33.734375 51.609375 26.3125 \r\nQ 51.609375 18.359375 48.75 11.984375 \r\nQ 45.90625 5.609375 40.453125 2.21875 \r\nQ 35.015625 -1.171875 29 -1.171875 \r\nQ 24.609375 -1.171875 21.109375 0.6875 \r\nQ 17.625 2.546875 15.375 5.375 \r\nL 15.375 -19.875 \r\nz\r\nM 14.546875 25.640625 \r\nQ 14.546875 15.625 18.59375 10.84375 \r\nQ 22.65625 6.0625 28.421875 6.0625 \r\nQ 34.28125 6.0625 38.453125 11.015625 \r\nQ 42.625 15.96875 42.625 26.375 \r\nQ 42.625 36.28125 38.546875 41.203125 \r\nQ 34.46875 46.140625 28.8125 46.140625 \r\nQ 23.1875 46.140625 18.859375 40.890625 \r\nQ 14.546875 35.640625 14.546875 25.640625 \r\nz\r\n\" id=\"ArialMT-112\"/>\r\n      </defs>\r\n      <g style=\"fill:#bbbbbb;\" transform=\"translate(25.099656 82.109058)scale(0.126 -0.126)\">\r\n       <use xlink:href=\"#ArialMT-72\"/>\r\n       <use x=\"72.216797\" xlink:href=\"#ArialMT-97\"/>\r\n       <use x=\"127.832031\" xlink:href=\"#ArialMT-114\"/>\r\n       <use x=\"161.132812\" xlink:href=\"#ArialMT-115\"/>\r\n       <use x=\"211.132812\" xlink:href=\"#ArialMT-104\"/>\r\n       <use x=\"266.748047\" xlink:href=\"#ArialMT-67\"/>\r\n       <use x=\"338.964844\" xlink:href=\"#ArialMT-97\"/>\r\n       <use x=\"394.580078\" xlink:href=\"#ArialMT-115\"/>\r\n       <use x=\"444.580078\" xlink:href=\"#ArialMT-112\"/>\r\n       <use x=\"500.195312\" xlink:href=\"#ArialMT-101\"/>\r\n       <use x=\"555.810547\" xlink:href=\"#ArialMT-114\"/>\r\n      </g>\r\n     </g>\r\n    </g>\r\n    <g id=\"text_12\">\r\n     <!-- Contributors -->\r\n     <defs>\r\n      <path d=\"M 6.640625 61.46875 \r\nL 6.640625 71.578125 \r\nL 15.4375 71.578125 \r\nL 15.4375 61.46875 \r\nz\r\nM 6.640625 0 \r\nL 6.640625 51.859375 \r\nL 15.4375 51.859375 \r\nL 15.4375 0 \r\nz\r\n\" id=\"ArialMT-105\"/>\r\n     </defs>\r\n     <g style=\"fill:#bbbbbb;\" transform=\"translate(17.50725 260.873344)rotate(-90)scale(0.144 -0.144)\">\r\n      <use xlink:href=\"#ArialMT-67\"/>\r\n      <use x=\"72.216797\" xlink:href=\"#ArialMT-111\"/>\r\n      <use x=\"127.832031\" xlink:href=\"#ArialMT-110\"/>\r\n      <use x=\"183.447266\" xlink:href=\"#ArialMT-116\"/>\r\n      <use x=\"211.230469\" xlink:href=\"#ArialMT-114\"/>\r\n      <use x=\"244.53125\" xlink:href=\"#ArialMT-105\"/>\r\n      <use x=\"266.748047\" xlink:href=\"#ArialMT-98\"/>\r\n      <use x=\"322.363281\" xlink:href=\"#ArialMT-117\"/>\r\n      <use x=\"377.978516\" xlink:href=\"#ArialMT-116\"/>\r\n      <use x=\"405.761719\" xlink:href=\"#ArialMT-111\"/>\r\n      <use x=\"461.376953\" xlink:href=\"#ArialMT-114\"/>\r\n      <use x=\"494.677734\" xlink:href=\"#ArialMT-115\"/>\r\n     </g>\r\n    </g>\r\n   </g>\r\n   <g id=\"patch_3\">\r\n    <path clip-path=\"url(#pf898b950f6)\" d=\"M 112.3235 394.622855 \r\nL 129.956153 394.622855 \r\nL 129.956153 336.96831 \r\nL 112.3235 336.96831 \r\nz\r\n\" style=\"fill:#008000;\"/>\r\n   </g>\r\n   <g id=\"patch_4\">\r\n    <path clip-path=\"url(#pf898b950f6)\" d=\"M 112.3235 322.554673 \r\nL 133.87452 322.554673 \r\nL 133.87452 264.900128 \r\nL 112.3235 264.900128 \r\nz\r\n\" style=\"fill:#c44e52;\"/>\r\n   </g>\r\n   <g id=\"patch_5\">\r\n    <path clip-path=\"url(#pf898b950f6)\" d=\"M 112.3235 250.486491 \r\nL 138.77248 250.486491 \r\nL 138.77248 192.831946 \r\nL 112.3235 192.831946 \r\nz\r\n\" style=\"fill:#3572c6;\"/>\r\n   </g>\r\n   <g id=\"patch_6\">\r\n    <path clip-path=\"url(#pf898b950f6)\" d=\"M 112.3235 178.41831 \r\nL 232.813296 178.41831 \r\nL 232.813296 120.763764 \r\nL 112.3235 120.763764 \r\nz\r\n\" style=\"fill:#800080;\"/>\r\n   </g>\r\n   <g id=\"patch_7\">\r\n    <path clip-path=\"url(#pf898b950f6)\" d=\"M 112.3235 106.350128 \r\nL 537.466357 106.350128 \r\nL 537.466357 48.695582 \r\nL 112.3235 48.695582 \r\nz\r\n\" style=\"fill:#ff914d;\"/>\r\n   </g>\r\n   <g id=\"patch_8\">\r\n    <path d=\"M 112.3235 411.919219 \r\nL 112.3235 31.399219 \r\n\" style=\"fill:none;stroke:#888888;stroke-linecap:square;stroke-linejoin:miter;stroke-width:1.4;\"/>\r\n   </g>\r\n   <g id=\"patch_9\">\r\n    <path d=\"M 558.7235 411.919219 \r\nL 558.7235 31.399219 \r\n\" style=\"fill:none;stroke:#888888;stroke-linecap:square;stroke-linejoin:miter;stroke-width:1.4;\"/>\r\n   </g>\r\n   <g id=\"patch_10\">\r\n    <path d=\"M 112.3235 411.919219 \r\nL 558.7235 411.919219 \r\n\" style=\"fill:none;stroke:#888888;stroke-linecap:square;stroke-linejoin:miter;stroke-width:1.4;\"/>\r\n   </g>\r\n   <g id=\"patch_11\">\r\n    <path d=\"M 112.3235 31.399219 \r\nL 558.7235 31.399219 \r\n\" style=\"fill:none;stroke:#888888;stroke-linecap:square;stroke-linejoin:miter;stroke-width:1.4;\"/>\r\n   </g>\r\n   <g id=\"text_13\">\r\n    <!-- 18 -->\r\n    <defs>\r\n     <path d=\"M 17.671875 38.8125 \r\nQ 12.203125 40.828125 9.5625 44.53125 \r\nQ 6.9375 48.25 6.9375 53.421875 \r\nQ 6.9375 61.234375 12.546875 66.546875 \r\nQ 18.171875 71.875 27.484375 71.875 \r\nQ 36.859375 71.875 42.578125 66.421875 \r\nQ 48.296875 60.984375 48.296875 53.171875 \r\nQ 48.296875 48.1875 45.671875 44.5 \r\nQ 43.0625 40.828125 37.75 38.8125 \r\nQ 44.34375 36.671875 47.78125 31.875 \r\nQ 51.21875 27.09375 51.21875 20.453125 \r\nQ 51.21875 11.28125 44.71875 5.03125 \r\nQ 38.234375 -1.21875 27.640625 -1.21875 \r\nQ 17.046875 -1.21875 10.546875 5.046875 \r\nQ 4.046875 11.328125 4.046875 20.703125 \r\nQ 4.046875 27.6875 7.59375 32.390625 \r\nQ 11.140625 37.109375 17.671875 38.8125 \r\nz\r\nM 15.921875 53.71875 \r\nQ 15.921875 48.640625 19.1875 45.40625 \r\nQ 22.46875 42.1875 27.6875 42.1875 \r\nQ 32.765625 42.1875 36.015625 45.375 \r\nQ 39.265625 48.578125 39.265625 53.21875 \r\nQ 39.265625 58.0625 35.90625 61.359375 \r\nQ 32.5625 64.65625 27.59375 64.65625 \r\nQ 22.5625 64.65625 19.234375 61.421875 \r\nQ 15.921875 58.203125 15.921875 53.71875 \r\nz\r\nM 13.09375 20.65625 \r\nQ 13.09375 16.890625 14.875 13.375 \r\nQ 16.65625 9.859375 20.171875 7.921875 \r\nQ 23.6875 6 27.734375 6 \r\nQ 34.03125 6 38.125 10.046875 \r\nQ 42.234375 14.109375 42.234375 20.359375 \r\nQ 42.234375 26.703125 38.015625 30.859375 \r\nQ 33.796875 35.015625 27.4375 35.015625 \r\nQ 21.234375 35.015625 17.15625 30.90625 \r\nQ 13.09375 26.8125 13.09375 20.65625 \r\nz\r\n\" id=\"ArialMT-56\"/>\r\n    </defs>\r\n    <g style=\"fill:#bbbbbb;\" transform=\"translate(129.956153 365.795582)scale(0.132 -0.132)\">\r\n     <use xlink:href=\"#ArialMT-49\"/>\r\n     <use x=\"55.615234\" xlink:href=\"#ArialMT-56\"/>\r\n    </g>\r\n   </g>\r\n   <g id=\"text_14\">\r\n    <!-- 22 -->\r\n    <g style=\"fill:#bbbbbb;\" transform=\"translate(133.87452 293.727401)scale(0.132 -0.132)\">\r\n     <use xlink:href=\"#ArialMT-50\"/>\r\n     <use x=\"55.615234\" xlink:href=\"#ArialMT-50\"/>\r\n    </g>\r\n   </g>\r\n   <g id=\"text_15\">\r\n    <!-- 27 -->\r\n    <g style=\"fill:#bbbbbb;\" transform=\"translate(138.77248 221.659219)scale(0.132 -0.132)\">\r\n     <use xlink:href=\"#ArialMT-50\"/>\r\n     <use x=\"55.615234\" xlink:href=\"#ArialMT-55\"/>\r\n    </g>\r\n   </g>\r\n   <g id=\"text_16\">\r\n    <!-- 123 -->\r\n    <g style=\"fill:#bbbbbb;\" transform=\"translate(232.813296 149.591037)scale(0.132 -0.132)\">\r\n     <use xlink:href=\"#ArialMT-49\"/>\r\n     <use x=\"55.615234\" xlink:href=\"#ArialMT-50\"/>\r\n     <use x=\"111.230469\" xlink:href=\"#ArialMT-51\"/>\r\n    </g>\r\n   </g>\r\n   <g id=\"text_17\">\r\n    <!-- 434 -->\r\n    <g style=\"fill:#bbbbbb;\" transform=\"translate(537.466357 77.522855)scale(0.132 -0.132)\">\r\n     <use xlink:href=\"#ArialMT-52\"/>\r\n     <use x=\"55.615234\" xlink:href=\"#ArialMT-51\"/>\r\n     <use x=\"111.230469\" xlink:href=\"#ArialMT-52\"/>\r\n    </g>\r\n   </g>\r\n   <g id=\"text_18\">\r\n    <!-- Top 5 Contributors -->\r\n    <defs>\r\n     <path d=\"M 25.921875 0 \r\nL 25.921875 63.140625 \r\nL 2.34375 63.140625 \r\nL 2.34375 71.578125 \r\nL 59.078125 71.578125 \r\nL 59.078125 63.140625 \r\nL 35.40625 63.140625 \r\nL 35.40625 0 \r\nz\r\n\" id=\"ArialMT-84\"/>\r\n     <path id=\"ArialMT-32\"/>\r\n    </defs>\r\n    <g style=\"fill:#bbbbbb;\" transform=\"translate(233.400453 25.399219)scale(0.25 -0.25)\">\r\n     <use xlink:href=\"#ArialMT-84\"/>\r\n     <use x=\"49.958984\" xlink:href=\"#ArialMT-111\"/>\r\n     <use x=\"105.574219\" xlink:href=\"#ArialMT-112\"/>\r\n     <use x=\"161.189453\" xlink:href=\"#ArialMT-32\"/>\r\n     <use x=\"188.972656\" xlink:href=\"#ArialMT-53\"/>\r\n     <use x=\"244.587891\" xlink:href=\"#ArialMT-32\"/>\r\n     <use x=\"272.371094\" xlink:href=\"#ArialMT-67\"/>\r\n     <use x=\"344.587891\" xlink:href=\"#ArialMT-111\"/>\r\n     <use x=\"400.203125\" xlink:href=\"#ArialMT-110\"/>\r\n     <use x=\"455.818359\" xlink:href=\"#ArialMT-116\"/>\r\n     <use x=\"483.601562\" xlink:href=\"#ArialMT-114\"/>\r\n     <use x=\"516.902344\" xlink:href=\"#ArialMT-105\"/>\r\n     <use x=\"539.119141\" xlink:href=\"#ArialMT-98\"/>\r\n     <use x=\"594.734375\" xlink:href=\"#ArialMT-117\"/>\r\n     <use x=\"650.349609\" xlink:href=\"#ArialMT-116\"/>\r\n     <use x=\"678.132812\" xlink:href=\"#ArialMT-111\"/>\r\n     <use x=\"733.748047\" xlink:href=\"#ArialMT-114\"/>\r\n     <use x=\"767.048828\" xlink:href=\"#ArialMT-115\"/>\r\n    </g>\r\n   </g>\r\n  </g>\r\n </g>\r\n <defs>\r\n  <clipPath id=\"pf898b950f6\">\r\n   <rect height=\"380.52\" width=\"446.4\" x=\"112.3235\" y=\"31.399219\"/>\r\n  </clipPath>\r\n </defs>\r\n</svg>\r\n",
      "image/png": "[encoded data removed]"
     },
     "metadata": {}
    }
   ],
   "metadata": {}
  },
  {
   "cell_type": "markdown",
   "source": [
    "# Section: PR Average time \r\n"
   ],
   "metadata": {}
  },
  {
   "cell_type": "code",
   "execution_count": 612,
   "source": [
    "#creating a \"merged_df\" dataframe which contains only the rows which are merged PR's\r\n",
    "merged_df=df[df['PR Status']==\"Merged\"]\r\n",
    "merged_number_list=df[df['PR Status']==\"Merged\"][\"No\"].to_list()"
   ],
   "outputs": [
    {
     "output_type": "stream",
     "name": "stdout",
     "text": [
      "https://github.com//HarshCasper/Rotten-Scripts/pull/1207\n"
     ]
    }
   ],
   "metadata": {}
  },
  {
   "cell_type": "code",
   "execution_count": 605,
   "source": [
    "#function to get the date and time history from a merged PR\r\n",
    "def datetime_extractor(url):\r\n",
    "    \"\"\"\r\n",
    "    Returns start and the end datetime values of a PR.\r\n",
    "\r\n",
    "    Parameters:\r\n",
    "        url (url): URL to every Pull Request.\r\n",
    "\r\n",
    "    Returns:\r\n",
    "        End (datetime): date and time when the PR was opened for the first time.\r\n",
    "        Start (datetime): date and time when the PR was closed.\r\n",
    "    \"\"\"\r\n",
    "    datetime=[]\r\n",
    "    r=requests.get(url)\r\n",
    "    soup=BeautifulSoup(r.content,'html.parser')\r\n",
    "    div_tags=soup.findAll('div',class_=\"TimelineItem-body\")\r\n",
    "    for _,i in enumerate(div_tags):\r\n",
    "        for a in i.findChildren('a'):\r\n",
    "            for rt in a.findChildren('relative-time',class_=\"no-wrap\"):\r\n",
    "                datetime.append(rt['datetime'])\r\n",
    "    return max(datetime),min(datetime)"
   ],
   "outputs": [],
   "metadata": {}
  },
  {
   "cell_type": "code",
   "execution_count": 610,
   "source": [
    "#function to calculate the time difference of starting and ending time of every merged PR\r\n",
    "def merged_pr_active_time(datetime_info):\r\n",
    "    \"\"\"\r\n",
    "    Returns the duration of a Pull Request.\r\n",
    "\r\n",
    "    Parameters:\r\n",
    "        datetime_info (list): List containing complete timestamps in a Pull Request. \r\n",
    "\r\n",
    "    Returns:\r\n",
    "        timediff (datetime): duration of a Pull Request. \r\n",
    "    \"\"\"\r\n",
    "    datetime_list=[]\r\n",
    "    for dates in datetime_info:\r\n",
    "        dates=re.sub(\"T\",\" \",dates)\r\n",
    "        dates=re.sub(\"Z\",\"\",dates)\r\n",
    "        dates=re.sub(\"-\",\"/\",dates)\r\n",
    "        dates=datetime.datetime.strptime(dates,'%Y/%m/%d %H:%M:%S')\r\n",
    "        datetime_list.append(dates)\r\n",
    "    maximum=datetime_list[-1]\r\n",
    "    minimum=datetime_list[0]\r\n",
    "    timediff=maximum-minimum\r\n",
    "    return timediff\r\n"
   ],
   "outputs": [],
   "metadata": {}
  },
  {
   "cell_type": "code",
   "execution_count": 585,
   "source": [
    "datetime_info=datetime_extractor(df[df['PR Status']==\"Merged\"][\"PR Url\"][79])\r\n",
    "timediff=merged_pr_active_time(datetime_info)\r\n",
    "timediff"
   ],
   "outputs": [
    {
     "output_type": "execute_result",
     "data": {
      "text/plain": [
       "datetime.timedelta(days=34, seconds=85337)"
      ]
     },
     "metadata": {},
     "execution_count": 585
    }
   ],
   "metadata": {}
  },
  {
   "cell_type": "code",
   "execution_count": 617,
   "source": [
    "#list for storing the time difference of starting and ending time of all the merrged PR's\r\n",
    "pr_time=[]"
   ],
   "outputs": [],
   "metadata": {}
  },
  {
   "cell_type": "code",
   "execution_count": 644,
   "source": [
    "#finding out the start and end time of every merged PR and append to \"pr_time()\"\r\n",
    "for i in merged_number_list[430:443]:\r\n",
    "    print(i)\r\n",
    "    datetime_info=datetime_extractor(merged_df['PR Url'][i])\r\n",
    "    timediff=merged_pr_active_time(datetime_info)\r\n",
    "    print(datetime_info)\r\n",
    "    pr_time.append(timediff)\r\n",
    "    "
   ],
   "outputs": [
    {
     "output_type": "stream",
     "name": "stdout",
     "text": [
      "685\n",
      "('2020-06-29T03:22:02Z', '2020-06-28T16:45:41Z')\n",
      "686\n",
      "('2020-06-29T03:18:49Z', '2020-06-28T16:30:10Z')\n",
      "687\n",
      "('2020-06-30T02:40:13Z', '2020-06-28T14:01:04Z')\n",
      "688\n",
      "('2020-06-28T03:35:06Z', '2020-06-20T15:06:42Z')\n",
      "689\n",
      "('2020-06-27T09:52:45Z', '2020-06-26T12:41:22Z')\n",
      "690\n",
      "('2020-06-27T09:58:50Z', '2020-06-26T06:38:12Z')\n",
      "691\n",
      "('2020-07-08T11:44:31Z', '2020-06-26T06:52:47Z')\n",
      "692\n",
      "('2020-06-27T10:00:30Z', '2020-06-25T12:12:48Z')\n",
      "693\n",
      "('2020-06-24T14:58:57Z', '2020-06-24T12:57:42Z')\n",
      "694\n",
      "('2020-06-24T10:58:11Z', '2020-06-23T10:43:17Z')\n",
      "695\n",
      "('2020-06-22T10:31:52Z', '2020-06-22T10:08:42Z')\n",
      "696\n",
      "('2020-09-12T05:02:47Z', '2020-06-20T15:08:26Z')\n"
     ]
    }
   ],
   "metadata": {}
  },
  {
   "cell_type": "code",
   "execution_count": 719,
   "source": [
    "# adding \"Active PR time\" values to the dataframe alondg with \"PR No\" column for reference puposes\r\n",
    "merged_df['Active PR Time']=pr_time\r\n",
    "merged_df['PR No']=df[df[\"PR Status\"]==\"Merged\"]['No']\r\n",
    "merged_df.No=[x for x in range(len(merged_df))]\r\n",
    "merged_df=merged_df[['No','PR No', 'PR Url', 'PR Status', 'PR Contributors', 'Active PR Time']]"
   ],
   "outputs": [],
   "metadata": {}
  },
  {
   "cell_type": "code",
   "execution_count": 720,
   "source": [
    "#calculating the total number of seconds from the \"ACtive PT Time\" column\r\n",
    "seconds_list=[]\r\n",
    "for i in merged_df['PR No']:\r\n",
    "    merged_df['Active PR Time'][i]=abs(merged_df['Active PR Time'][i])\r\n",
    "    seconds = merged_df['Active PR Time'][i].total_seconds()\r\n",
    "    seconds_list.append(abs(seconds))\r\n",
    "\r\n",
    "merged_df['Active time(in Seconds)']=seconds_list\r\n",
    "merged_df"
   ],
   "outputs": [
    {
     "output_type": "stream",
     "name": "stderr",
     "text": [
      "C:\\Users\\adity\\anaconda3\\lib\\site-packages\\ipykernel_launcher.py:3: SettingWithCopyWarning: \n",
      "A value is trying to be set on a copy of a slice from a DataFrame\n",
      "\n",
      "See the caveats in the documentation: https://pandas.pydata.org/pandas-docs/stable/user_guide/indexing.html#returning-a-view-versus-a-copy\n",
      "  This is separate from the ipykernel package so we can avoid doing imports until\n",
      "C:\\Users\\adity\\anaconda3\\lib\\site-packages\\IPython\\core\\interactiveshell.py:3343: SettingWithCopyWarning: \n",
      "A value is trying to be set on a copy of a slice from a DataFrame\n",
      "\n",
      "See the caveats in the documentation: https://pandas.pydata.org/pandas-docs/stable/user_guide/indexing.html#returning-a-view-versus-a-copy\n",
      "  exec(code_obj, self.user_global_ns, self.user_ns)\n"
     ]
    },
    {
     "output_type": "execute_result",
     "data": {
      "text/plain": [
       "      No  PR No                                             PR Url PR Status  \\\n",
       "17     0     17  https://github.com//HarshCasper/Rotten-Scripts...    Merged   \n",
       "18     1     18  https://github.com//HarshCasper/Rotten-Scripts...    Merged   \n",
       "20     2     20  https://github.com//HarshCasper/Rotten-Scripts...    Merged   \n",
       "21     3     21  https://github.com//HarshCasper/Rotten-Scripts...    Merged   \n",
       "23     4     23  https://github.com//HarshCasper/Rotten-Scripts...    Merged   \n",
       "..   ...    ...                                                ...       ...   \n",
       "692  437    692  https://github.com//HarshCasper/Rotten-Scripts...    Merged   \n",
       "693  438    693  https://github.com//HarshCasper/Rotten-Scripts...    Merged   \n",
       "694  439    694  https://github.com//HarshCasper/Rotten-Scripts...    Merged   \n",
       "695  440    695  https://github.com//HarshCasper/Rotten-Scripts...    Merged   \n",
       "696  441    696  https://github.com//HarshCasper/Rotten-Scripts...    Merged   \n",
       "\n",
       "                            PR Contributors   Active PR Time  \\\n",
       "17              [Sukriti-sood, HarshCasper]  0 days 18:45:00   \n",
       "18              [rutujaingole, HarshCasper]  2 days 23:44:56   \n",
       "20               [AliHaider20, HarshCasper]  0 days 21:47:13   \n",
       "21                            [HarshCasper]  0 days 00:00:47   \n",
       "23   [YashKandalkar, HarshCasper, RohiniRG]  7 days 20:59:40   \n",
       "..                                      ...              ...   \n",
       "692                [sanket143, HarshCasper]  1 days 21:47:42   \n",
       "693                    [mbcse, HarshCasper]  0 days 02:01:15   \n",
       "694                [sanket143, HarshCasper]  1 days 00:14:54   \n",
       "695                [seema1711, HarshCasper]  0 days 00:23:10   \n",
       "696                [seema1711, HarshCasper] 83 days 13:54:21   \n",
       "\n",
       "     Active time(in Seconds)  \n",
       "17                   67500.0  \n",
       "18                  258296.0  \n",
       "20                   78433.0  \n",
       "21                      47.0  \n",
       "23                  680380.0  \n",
       "..                       ...  \n",
       "692                 164862.0  \n",
       "693                   7275.0  \n",
       "694                  87294.0  \n",
       "695                   1390.0  \n",
       "696                7221261.0  \n",
       "\n",
       "[442 rows x 7 columns]"
      ],
      "text/html": [
       "<div>\n",
       "<style scoped>\n",
       "    .dataframe tbody tr th:only-of-type {\n",
       "        vertical-align: middle;\n",
       "    }\n",
       "\n",
       "    .dataframe tbody tr th {\n",
       "        vertical-align: top;\n",
       "    }\n",
       "\n",
       "    .dataframe thead th {\n",
       "        text-align: right;\n",
       "    }\n",
       "</style>\n",
       "<table border=\"1\" class=\"dataframe\">\n",
       "  <thead>\n",
       "    <tr style=\"text-align: right;\">\n",
       "      <th></th>\n",
       "      <th>No</th>\n",
       "      <th>PR No</th>\n",
       "      <th>PR Url</th>\n",
       "      <th>PR Status</th>\n",
       "      <th>PR Contributors</th>\n",
       "      <th>Active PR Time</th>\n",
       "      <th>Active time(in Seconds)</th>\n",
       "    </tr>\n",
       "  </thead>\n",
       "  <tbody>\n",
       "    <tr>\n",
       "      <th>17</th>\n",
       "      <td>0</td>\n",
       "      <td>17</td>\n",
       "      <td>https://github.com//HarshCasper/Rotten-Scripts...</td>\n",
       "      <td>Merged</td>\n",
       "      <td>[Sukriti-sood, HarshCasper]</td>\n",
       "      <td>0 days 18:45:00</td>\n",
       "      <td>67500.0</td>\n",
       "    </tr>\n",
       "    <tr>\n",
       "      <th>18</th>\n",
       "      <td>1</td>\n",
       "      <td>18</td>\n",
       "      <td>https://github.com//HarshCasper/Rotten-Scripts...</td>\n",
       "      <td>Merged</td>\n",
       "      <td>[rutujaingole, HarshCasper]</td>\n",
       "      <td>2 days 23:44:56</td>\n",
       "      <td>258296.0</td>\n",
       "    </tr>\n",
       "    <tr>\n",
       "      <th>20</th>\n",
       "      <td>2</td>\n",
       "      <td>20</td>\n",
       "      <td>https://github.com//HarshCasper/Rotten-Scripts...</td>\n",
       "      <td>Merged</td>\n",
       "      <td>[AliHaider20, HarshCasper]</td>\n",
       "      <td>0 days 21:47:13</td>\n",
       "      <td>78433.0</td>\n",
       "    </tr>\n",
       "    <tr>\n",
       "      <th>21</th>\n",
       "      <td>3</td>\n",
       "      <td>21</td>\n",
       "      <td>https://github.com//HarshCasper/Rotten-Scripts...</td>\n",
       "      <td>Merged</td>\n",
       "      <td>[HarshCasper]</td>\n",
       "      <td>0 days 00:00:47</td>\n",
       "      <td>47.0</td>\n",
       "    </tr>\n",
       "    <tr>\n",
       "      <th>23</th>\n",
       "      <td>4</td>\n",
       "      <td>23</td>\n",
       "      <td>https://github.com//HarshCasper/Rotten-Scripts...</td>\n",
       "      <td>Merged</td>\n",
       "      <td>[YashKandalkar, HarshCasper, RohiniRG]</td>\n",
       "      <td>7 days 20:59:40</td>\n",
       "      <td>680380.0</td>\n",
       "    </tr>\n",
       "    <tr>\n",
       "      <th>...</th>\n",
       "      <td>...</td>\n",
       "      <td>...</td>\n",
       "      <td>...</td>\n",
       "      <td>...</td>\n",
       "      <td>...</td>\n",
       "      <td>...</td>\n",
       "      <td>...</td>\n",
       "    </tr>\n",
       "    <tr>\n",
       "      <th>692</th>\n",
       "      <td>437</td>\n",
       "      <td>692</td>\n",
       "      <td>https://github.com//HarshCasper/Rotten-Scripts...</td>\n",
       "      <td>Merged</td>\n",
       "      <td>[sanket143, HarshCasper]</td>\n",
       "      <td>1 days 21:47:42</td>\n",
       "      <td>164862.0</td>\n",
       "    </tr>\n",
       "    <tr>\n",
       "      <th>693</th>\n",
       "      <td>438</td>\n",
       "      <td>693</td>\n",
       "      <td>https://github.com//HarshCasper/Rotten-Scripts...</td>\n",
       "      <td>Merged</td>\n",
       "      <td>[mbcse, HarshCasper]</td>\n",
       "      <td>0 days 02:01:15</td>\n",
       "      <td>7275.0</td>\n",
       "    </tr>\n",
       "    <tr>\n",
       "      <th>694</th>\n",
       "      <td>439</td>\n",
       "      <td>694</td>\n",
       "      <td>https://github.com//HarshCasper/Rotten-Scripts...</td>\n",
       "      <td>Merged</td>\n",
       "      <td>[sanket143, HarshCasper]</td>\n",
       "      <td>1 days 00:14:54</td>\n",
       "      <td>87294.0</td>\n",
       "    </tr>\n",
       "    <tr>\n",
       "      <th>695</th>\n",
       "      <td>440</td>\n",
       "      <td>695</td>\n",
       "      <td>https://github.com//HarshCasper/Rotten-Scripts...</td>\n",
       "      <td>Merged</td>\n",
       "      <td>[seema1711, HarshCasper]</td>\n",
       "      <td>0 days 00:23:10</td>\n",
       "      <td>1390.0</td>\n",
       "    </tr>\n",
       "    <tr>\n",
       "      <th>696</th>\n",
       "      <td>441</td>\n",
       "      <td>696</td>\n",
       "      <td>https://github.com//HarshCasper/Rotten-Scripts...</td>\n",
       "      <td>Merged</td>\n",
       "      <td>[seema1711, HarshCasper]</td>\n",
       "      <td>83 days 13:54:21</td>\n",
       "      <td>7221261.0</td>\n",
       "    </tr>\n",
       "  </tbody>\n",
       "</table>\n",
       "<p>442 rows × 7 columns</p>\n",
       "</div>"
      ]
     },
     "metadata": {},
     "execution_count": 720
    }
   ],
   "metadata": {}
  },
  {
   "cell_type": "code",
   "execution_count": 689,
   "source": [
    "#save all the merged PR's along with new columns into a csv file format\r\n",
    "merged_df.to_csv('merged_PR_active_time.csv')"
   ],
   "outputs": [],
   "metadata": {}
  },
  {
   "cell_type": "markdown",
   "source": [
    "# Cluster creation using KMeans"
   ],
   "metadata": {}
  },
  {
   "cell_type": "code",
   "execution_count": 650,
   "source": [
    "#libraries to import KMeans and pyplot\r\n",
    "from sklearn.cluster import KMeans\r\n",
    "from matplotlib import pyplot as plt"
   ],
   "outputs": [],
   "metadata": {}
  },
  {
   "cell_type": "code",
   "execution_count": 749,
   "source": [
    "#training the KMEans model with number of clusters to be formed as 3\r\n",
    "import numpy as np\r\n",
    "model=KMeans(n_clusters=3)\r\n",
    "model.fit(np.array(merged_df['Active time(in Seconds)']).reshape(-1,1))\r\n",
    "np.random.seed(43)"
   ],
   "outputs": [],
   "metadata": {}
  },
  {
   "cell_type": "code",
   "execution_count": 756,
   "source": [
    "#to get the centriods of the 2 clusters\r\n",
    "model.cluster_centers_"
   ],
   "outputs": [
    {
     "output_type": "execute_result",
     "data": {
      "text/plain": [
       "array([[ 259118.49431818],\n",
       "       [6915384.        ],\n",
       "       [2391290.07462686]])"
      ]
     },
     "metadata": {},
     "execution_count": 756
    }
   ],
   "metadata": {}
  },
  {
   "cell_type": "code",
   "execution_count": 752,
   "source": [
    "#converting \"seconds\" to \"date hour min sec\" format\r\n",
    "result=[]\r\n",
    "for i in model.cluster_centers_:\r\n",
    "    seconds=int(i)\r\n",
    "    days=seconds//(24*3600)\r\n",
    "    seconds%=(24*3600)\r\n",
    "    hours=seconds//3600\r\n",
    "    seconds%=3600\r\n",
    "    minutes=seconds//60\r\n",
    "    seconds%=60\r\n",
    "    res=\"{} days {} hours {} minutes {} seconds\".format(days,hours,minutes,seconds)\r\n",
    "    result.append(res)\r\n",
    "    print(res)\r\n",
    "\r\n"
   ],
   "outputs": [
    {
     "output_type": "stream",
     "name": "stdout",
     "text": [
      "2 days 23 hours 58 minutes 38 seconds\n",
      "80 days 0 hours 56 minutes 24 seconds\n",
      "27 days 16 hours 14 minutes 50 seconds\n"
     ]
    }
   ],
   "metadata": {}
  },
  {
   "cell_type": "code",
   "execution_count": 753,
   "source": [
    "#clustered active PR time \r\n",
    "result.sort()\r\n",
    "result=pd.DataFrame(result,columns=[\"Average PR time\"])\r\n",
    "result"
   ],
   "outputs": [
    {
     "output_type": "execute_result",
     "data": {
      "text/plain": [
       "                          Average PR time\n",
       "0   2 days 23 hours 58 minutes 38 seconds\n",
       "1  27 days 16 hours 14 minutes 50 seconds\n",
       "2   80 days 0 hours 56 minutes 24 seconds"
      ],
      "text/html": [
       "<div>\n",
       "<style scoped>\n",
       "    .dataframe tbody tr th:only-of-type {\n",
       "        vertical-align: middle;\n",
       "    }\n",
       "\n",
       "    .dataframe tbody tr th {\n",
       "        vertical-align: top;\n",
       "    }\n",
       "\n",
       "    .dataframe thead th {\n",
       "        text-align: right;\n",
       "    }\n",
       "</style>\n",
       "<table border=\"1\" class=\"dataframe\">\n",
       "  <thead>\n",
       "    <tr style=\"text-align: right;\">\n",
       "      <th></th>\n",
       "      <th>Average PR time</th>\n",
       "    </tr>\n",
       "  </thead>\n",
       "  <tbody>\n",
       "    <tr>\n",
       "      <th>0</th>\n",
       "      <td>2 days 23 hours 58 minutes 38 seconds</td>\n",
       "    </tr>\n",
       "    <tr>\n",
       "      <th>1</th>\n",
       "      <td>27 days 16 hours 14 minutes 50 seconds</td>\n",
       "    </tr>\n",
       "    <tr>\n",
       "      <th>2</th>\n",
       "      <td>80 days 0 hours 56 minutes 24 seconds</td>\n",
       "    </tr>\n",
       "  </tbody>\n",
       "</table>\n",
       "</div>"
      ]
     },
     "metadata": {},
     "execution_count": 753
    }
   ],
   "metadata": {}
  },
  {
   "cell_type": "code",
   "execution_count": 744,
   "source": [
    "#save the centroids into a csv file\r\n",
    "result.to_csv('average_PR_time(results).csv')"
   ],
   "outputs": [],
   "metadata": {}
  },
  {
   "cell_type": "code",
   "execution_count": 757,
   "source": [
    "#PR's which have been active more than 80 days\r\n",
    "merged_df[merged_df['Active time(in Seconds)']>=6915384]"
   ],
   "outputs": [
    {
     "output_type": "execute_result",
     "data": {
      "text/plain": [
       "      No  PR No                                             PR Url PR Status  \\\n",
       "246  132    246  https://github.com//HarshCasper/Rotten-Scripts...    Merged   \n",
       "331  183    331  https://github.com//HarshCasper/Rotten-Scripts...    Merged   \n",
       "333  185    333  https://github.com//HarshCasper/Rotten-Scripts...    Merged   \n",
       "374  209    374  https://github.com//HarshCasper/Rotten-Scripts...    Merged   \n",
       "583  345    583  https://github.com//HarshCasper/Rotten-Scripts...    Merged   \n",
       "636  389    636  https://github.com//HarshCasper/Rotten-Scripts...    Merged   \n",
       "696  441    696  https://github.com//HarshCasper/Rotten-Scripts...    Merged   \n",
       "\n",
       "                                 PR Contributors    Active PR Time  \\\n",
       "246         [pganguli, HarshCasper, vybhav72954]  92 days 19:54:37   \n",
       "331                   [vybhav72954, HarshCasper]  98 days 04:04:39   \n",
       "333  [Siddhant-K-code, HarshCasper, vybhav72954] 100 days 22:00:06   \n",
       "374  [Siddhant-K-code, vybhav72954, HarshCasper] 125 days 13:24:23   \n",
       "583                       [Namyalg, HarshCasper] 108 days 16:59:34   \n",
       "636                  [HeroicHitesh, HarshCasper] 166 days 22:47:16   \n",
       "696                     [seema1711, HarshCasper]  83 days 13:54:21   \n",
       "\n",
       "     Active time(in Seconds)  \n",
       "246                8020477.0  \n",
       "331                8481879.0  \n",
       "333                8719206.0  \n",
       "374               10848263.0  \n",
       "583                9392374.0  \n",
       "636               14424436.0  \n",
       "696                7221261.0  "
      ],
      "text/html": [
       "<div>\n",
       "<style scoped>\n",
       "    .dataframe tbody tr th:only-of-type {\n",
       "        vertical-align: middle;\n",
       "    }\n",
       "\n",
       "    .dataframe tbody tr th {\n",
       "        vertical-align: top;\n",
       "    }\n",
       "\n",
       "    .dataframe thead th {\n",
       "        text-align: right;\n",
       "    }\n",
       "</style>\n",
       "<table border=\"1\" class=\"dataframe\">\n",
       "  <thead>\n",
       "    <tr style=\"text-align: right;\">\n",
       "      <th></th>\n",
       "      <th>No</th>\n",
       "      <th>PR No</th>\n",
       "      <th>PR Url</th>\n",
       "      <th>PR Status</th>\n",
       "      <th>PR Contributors</th>\n",
       "      <th>Active PR Time</th>\n",
       "      <th>Active time(in Seconds)</th>\n",
       "    </tr>\n",
       "  </thead>\n",
       "  <tbody>\n",
       "    <tr>\n",
       "      <th>246</th>\n",
       "      <td>132</td>\n",
       "      <td>246</td>\n",
       "      <td>https://github.com//HarshCasper/Rotten-Scripts...</td>\n",
       "      <td>Merged</td>\n",
       "      <td>[pganguli, HarshCasper, vybhav72954]</td>\n",
       "      <td>92 days 19:54:37</td>\n",
       "      <td>8020477.0</td>\n",
       "    </tr>\n",
       "    <tr>\n",
       "      <th>331</th>\n",
       "      <td>183</td>\n",
       "      <td>331</td>\n",
       "      <td>https://github.com//HarshCasper/Rotten-Scripts...</td>\n",
       "      <td>Merged</td>\n",
       "      <td>[vybhav72954, HarshCasper]</td>\n",
       "      <td>98 days 04:04:39</td>\n",
       "      <td>8481879.0</td>\n",
       "    </tr>\n",
       "    <tr>\n",
       "      <th>333</th>\n",
       "      <td>185</td>\n",
       "      <td>333</td>\n",
       "      <td>https://github.com//HarshCasper/Rotten-Scripts...</td>\n",
       "      <td>Merged</td>\n",
       "      <td>[Siddhant-K-code, HarshCasper, vybhav72954]</td>\n",
       "      <td>100 days 22:00:06</td>\n",
       "      <td>8719206.0</td>\n",
       "    </tr>\n",
       "    <tr>\n",
       "      <th>374</th>\n",
       "      <td>209</td>\n",
       "      <td>374</td>\n",
       "      <td>https://github.com//HarshCasper/Rotten-Scripts...</td>\n",
       "      <td>Merged</td>\n",
       "      <td>[Siddhant-K-code, vybhav72954, HarshCasper]</td>\n",
       "      <td>125 days 13:24:23</td>\n",
       "      <td>10848263.0</td>\n",
       "    </tr>\n",
       "    <tr>\n",
       "      <th>583</th>\n",
       "      <td>345</td>\n",
       "      <td>583</td>\n",
       "      <td>https://github.com//HarshCasper/Rotten-Scripts...</td>\n",
       "      <td>Merged</td>\n",
       "      <td>[Namyalg, HarshCasper]</td>\n",
       "      <td>108 days 16:59:34</td>\n",
       "      <td>9392374.0</td>\n",
       "    </tr>\n",
       "    <tr>\n",
       "      <th>636</th>\n",
       "      <td>389</td>\n",
       "      <td>636</td>\n",
       "      <td>https://github.com//HarshCasper/Rotten-Scripts...</td>\n",
       "      <td>Merged</td>\n",
       "      <td>[HeroicHitesh, HarshCasper]</td>\n",
       "      <td>166 days 22:47:16</td>\n",
       "      <td>14424436.0</td>\n",
       "    </tr>\n",
       "    <tr>\n",
       "      <th>696</th>\n",
       "      <td>441</td>\n",
       "      <td>696</td>\n",
       "      <td>https://github.com//HarshCasper/Rotten-Scripts...</td>\n",
       "      <td>Merged</td>\n",
       "      <td>[seema1711, HarshCasper]</td>\n",
       "      <td>83 days 13:54:21</td>\n",
       "      <td>7221261.0</td>\n",
       "    </tr>\n",
       "  </tbody>\n",
       "</table>\n",
       "</div>"
      ]
     },
     "metadata": {},
     "execution_count": 757
    }
   ],
   "metadata": {}
  }
 ],
 "metadata": {
  "orig_nbformat": 4,
  "language_info": {
   "name": "python",
   "version": "3.7.6",
   "mimetype": "text/x-python",
   "codemirror_mode": {
    "name": "ipython",
    "version": 3
   },
   "pygments_lexer": "ipython3",
   "nbconvert_exporter": "python",
   "file_extension": ".py"
  },
  "kernelspec": {
   "name": "python3",
   "display_name": "Python 3.7.6 64-bit ('base': conda)"
  },
  "interpreter": {
   "hash": "c7118b647d8aee2f8c09effbe5401c08cfa1b0b54a052ea455fdde2a36cad5c3"
  }
 },
 "nbformat": 4,
 "nbformat_minor": 2
}